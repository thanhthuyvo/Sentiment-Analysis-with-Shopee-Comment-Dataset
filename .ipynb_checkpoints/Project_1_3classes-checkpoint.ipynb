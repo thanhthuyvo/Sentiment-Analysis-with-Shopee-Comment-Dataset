{
 "cells": [
  {
   "cell_type": "code",
   "execution_count": null,
   "metadata": {
    "colab": {
     "base_uri": "https://localhost:8080/"
    },
    "executionInfo": {
     "elapsed": 17272,
     "status": "ok",
     "timestamp": 1675687655675,
     "user": {
      "displayName": "Lưu Nguyễn Khải Hoàn",
      "userId": "12754983180713265756"
     },
     "user_tz": -420
    },
    "id": "63Bhl4Ey2euX",
    "outputId": "16c0b42b-8891-443f-ece5-87ffabafa3c7"
   },
   "outputs": [],
   "source": [
    "# !pip install underthesea\n",
    "# !pip install demoji\n",
    "# !pip install pyvi"
   ]
  },
  {
   "cell_type": "code",
   "execution_count": null,
   "metadata": {
    "colab": {
     "base_uri": "https://localhost:8080/"
    },
    "executionInfo": {
     "elapsed": 46880,
     "status": "ok",
     "timestamp": 1675687702549,
     "user": {
      "displayName": "Lưu Nguyễn Khải Hoàn",
      "userId": "12754983180713265756"
     },
     "user_tz": -420
    },
    "id": "jH8XoOcXwJna",
    "outputId": "3563031e-722e-41c9-e307-073ee0760e0e"
   },
   "outputs": [],
   "source": [
    "# !apt update\n",
    "# !apt-get install openjdk-11-jdk-headless -qq > /dev/null\n",
    "# !wget -q http://archive.apache.org/dist/spark/spark-3.3.0/spark-3.3.0-bin-hadoop3.tgz\n",
    "# !tar -xvf spark-3.3.0-bin-hadoop3.tgz\n",
    "# !pip install -q findspark\n",
    "# import os\n",
    "# os.environ[\"JAVA_HOME\"] = \"/usr/lib/jvm/java-11-openjdk-amd64\"\n",
    "# os.environ[\"SPARK_HOME\"] = \"/content/spark-3.3.0-bin-hadoop3\""
   ]
  },
  {
   "cell_type": "code",
   "execution_count": null,
   "metadata": {
    "colab": {
     "base_uri": "https://localhost:8080/"
    },
    "executionInfo": {
     "elapsed": 4763,
     "status": "ok",
     "timestamp": 1675687707307,
     "user": {
      "displayName": "Lưu Nguyễn Khải Hoàn",
      "userId": "12754983180713265756"
     },
     "user_tz": -420
    },
    "id": "cGy1fE8h2g2m",
    "outputId": "a4558625-ee14-4357-f2f7-3041bd62d449"
   },
   "outputs": [],
   "source": [
    "# from google.colab import drive\n",
    "# drive.mount(\"/content/gdrive\", force_remount=True)\n",
    "\n",
    "# %cd '/content/gdrive/My Drive/Data_Sicience/LDS0_K282_ONLINE_LuuNguyenKhaiHoan/Project_1/Data/'"
   ]
  },
  {
   "cell_type": "code",
   "execution_count": 1,
   "metadata": {},
   "outputs": [
    {
     "name": "stdout",
     "output_type": "stream",
     "text": [
      "C:\\Users\\khaih\\Downloads\\LDS0\\Data\n"
     ]
    }
   ],
   "source": [
    "%cd \"Data\""
   ]
  },
  {
   "cell_type": "code",
   "execution_count": 2,
   "metadata": {
    "executionInfo": {
     "elapsed": 2102,
     "status": "ok",
     "timestamp": 1675687709405,
     "user": {
      "displayName": "Lưu Nguyễn Khải Hoàn",
      "userId": "12754983180713265756"
     },
     "user_tz": -420
    },
    "id": "NoveTrE9tGAA"
   },
   "outputs": [],
   "source": [
    "import pandas as pd\n",
    "import numpy as np\n",
    "from underthesea import word_tokenize, pos_tag, sent_tokenize\n",
    "import regex\n",
    "import demoji\n",
    "from pyvi import ViPosTagger, ViTokenizer\n",
    "import string"
   ]
  },
  {
   "cell_type": "code",
   "execution_count": 3,
   "metadata": {
    "executionInfo": {
     "elapsed": 12,
     "status": "ok",
     "timestamp": 1675687709406,
     "user": {
      "displayName": "Lưu Nguyễn Khải Hoàn",
      "userId": "12754983180713265756"
     },
     "user_tz": -420
    },
    "id": "98pIaiUdtGAE"
   },
   "outputs": [],
   "source": [
    "##LOAD EMOJICON\n",
    "file = open('files/emojicon.txt', 'r', encoding=\"utf8\")\n",
    "emoji_lst = file.read().split('\\n')\n",
    "emoji_dict = {}\n",
    "for line in emoji_lst:\n",
    "    key, value = line.split('\\t')\n",
    "    emoji_dict[key] = str(value)\n",
    "file.close()\n",
    "#################\n",
    "#LOAD TEENCODE\n",
    "file = open('files/teencode.txt', 'r', encoding=\"utf8\")\n",
    "teen_lst = file.read().split('\\n')\n",
    "teen_dict = {}\n",
    "for line in teen_lst:\n",
    "    key, value = line.split('\\t')\n",
    "    teen_dict[key] = str(value)\n",
    "file.close()\n",
    "###############\n",
    "#LOAD TRANSLATE ENGLISH -> VNMESE\n",
    "file = open('files/english-vnmese.txt', 'r', encoding=\"utf8\")\n",
    "english_lst = file.read().split('\\n')\n",
    "english_dict = {}\n",
    "for line in english_lst:\n",
    "    key, value = line.split('\\t')\n",
    "    english_dict[key] = str(value)\n",
    "file.close()\n",
    "################\n",
    "#LOAD wrong words\n",
    "file = open('files/wrong-word.txt', 'r', encoding=\"utf8\")\n",
    "wrong_lst = file.read().split('\\n')\n",
    "file.close()\n",
    "#################\n",
    "#LOAD STOPWORDS\n",
    "file = open('files/vietnamese-stopwords.txt', 'r', encoding=\"utf8\")\n",
    "stopwords_lst = file.read().split('\\n')\n",
    "file.close()"
   ]
  },
  {
   "cell_type": "code",
   "execution_count": 4,
   "metadata": {
    "executionInfo": {
     "elapsed": 11,
     "status": "ok",
     "timestamp": 1675687709406,
     "user": {
      "displayName": "Lưu Nguyễn Khải Hoàn",
      "userId": "12754983180713265756"
     },
     "user_tz": -420
    },
    "id": "Od1WjpEjtGAE"
   },
   "outputs": [],
   "source": [
    "def process_text(text, emoji_dict, teen_dict, wrong_lst):\n",
    "    document = text.lower()\n",
    "    document = document.replace(\"’\",'')\n",
    "    document = regex.sub(r'\\.+', \".\", document)\n",
    "    new_sentence =''\n",
    "    for sentence in sent_tokenize(document):\n",
    "        # if not(sentence.isascii()):\n",
    "        ###### CONVERT EMOJICON\n",
    "        sentence = ''.join(emoji_dict[word]+' ' if word in emoji_dict else word for word in list(sentence))\n",
    "        ###### CONVERT TEENCODE\n",
    "        sentence = ' '.join(teen_dict[word] if word in teen_dict else word for word in sentence.split())\n",
    "        ###### DEL Punctuation & Numbers\n",
    "        pattern = r'(?i)\\b[a-záàảãạăắằẳẵặâấầẩẫậéèẻẽẹêếềểễệóòỏõọôốồổỗộơớờởỡợíìỉĩịúùủũụưứừửữựýỳỷỹỵđ]+\\b'\n",
    "        sentence = ' '.join(regex.findall(pattern,sentence))\n",
    "        ###### DEL wrong words   \n",
    "        sentence = ' '.join('' if word in wrong_lst else word for word in sentence.split())\n",
    "        new_sentence = new_sentence+ sentence + '. '                    \n",
    "    document = new_sentence  \n",
    "    #print(document)\n",
    "    ###### DEL excess blank space\n",
    "    document = regex.sub(r'\\s+', ' ', document).strip()\n",
    "    return document"
   ]
  },
  {
   "cell_type": "code",
   "execution_count": 5,
   "metadata": {
    "executionInfo": {
     "elapsed": 4,
     "status": "ok",
     "timestamp": 1675687935717,
     "user": {
      "displayName": "Lưu Nguyễn Khải Hoàn",
      "userId": "12754983180713265756"
     },
     "user_tz": -420
    },
    "id": "So0KldAgtGAG"
   },
   "outputs": [],
   "source": [
    "# Chuẩn hóa unicode tiếng việt\n",
    "def loaddicchar():\n",
    "    uniChars = \"àáảãạâầấẩẫậăằắẳẵặèéẻẽẹêềếểễệđìíỉĩịòóỏõọôồốổỗộơờớởỡợùúủũụưừứửữựỳýỷỹỵÀÁẢÃẠÂẦẤẨẪẬĂẰẮẲẴẶÈÉẺẼẸÊỀẾỂỄỆĐÌÍỈĨỊÒÓỎÕỌÔỒỐỔỖỘƠỜỚỞỠỢÙÚỦŨỤƯỪỨỬỮỰỲÝỶỸỴÂĂĐÔƠƯ\"\n",
    "    unsignChars = \"aaaaaaaaaaaaaaaaaeeeeeeeeeeediiiiiooooooooooooooooouuuuuuuuuuuyyyyyAAAAAAAAAAAAAAAAAEEEEEEEEEEEDIIIOOOOOOOOOOOOOOOOOOOUUUUUUUUUUUYYYYYAADOOU\"\n",
    "\n",
    "    dic = {}\n",
    "    char1252 = 'à|á|ả|ã|ạ|ầ|ấ|ẩ|ẫ|ậ|ằ|ắ|ẳ|ẵ|ặ|è|é|ẻ|ẽ|ẹ|ề|ế|ể|ễ|ệ|ì|í|ỉ|ĩ|ị|ò|ó|ỏ|õ|ọ|ồ|ố|ổ|ỗ|ộ|ờ|ớ|ở|ỡ|ợ|ù|ú|ủ|ũ|ụ|ừ|ứ|ử|ữ|ự|ỳ|ý|ỷ|ỹ|ỵ|À|Á|Ả|Ã|Ạ|Ầ|Ấ|Ẩ|Ẫ|Ậ|Ằ|Ắ|Ẳ|Ẵ|Ặ|È|É|Ẻ|Ẽ|Ẹ|Ề|Ế|Ể|Ễ|Ệ|Ì|Í|Ỉ|Ĩ|Ị|Ò|Ó|Ỏ|Õ|Ọ|Ồ|Ố|Ổ|Ỗ|Ộ|Ờ|Ớ|Ở|Ỡ|Ợ|Ù|Ú|Ủ|Ũ|Ụ|Ừ|Ứ|Ử|Ữ|Ự|Ỳ|Ý|Ỷ|Ỹ|Ỵ'.split(\n",
    "        '|')\n",
    "    charutf8 = \"à|á|ả|ã|ạ|ầ|ấ|ẩ|ẫ|ậ|ằ|ắ|ẳ|ẵ|ặ|è|é|ẻ|ẽ|ẹ|ề|ế|ể|ễ|ệ|ì|í|ỉ|ĩ|ị|ò|ó|ỏ|õ|ọ|ồ|ố|ổ|ỗ|ộ|ờ|ớ|ở|ỡ|ợ|ù|ú|ủ|ũ|ụ|ừ|ứ|ử|ữ|ự|ỳ|ý|ỷ|ỹ|ỵ|À|Á|Ả|Ã|Ạ|Ầ|Ấ|Ẩ|Ẫ|Ậ|Ằ|Ắ|Ẳ|Ẵ|Ặ|È|É|Ẻ|Ẽ|Ẹ|Ề|Ế|Ể|Ễ|Ệ|Ì|Í|Ỉ|Ĩ|Ị|Ò|Ó|Ỏ|Õ|Ọ|Ồ|Ố|Ổ|Ỗ|Ộ|Ờ|Ớ|Ở|Ỡ|Ợ|Ù|Ú|Ủ|Ũ|Ụ|Ừ|Ứ|Ử|Ữ|Ự|Ỳ|Ý|Ỷ|Ỹ|Ỵ\".split(\n",
    "        '|')\n",
    "    for i in range(len(char1252)):\n",
    "        dic[char1252[i]] = charutf8[i]\n",
    "    return dic\n",
    " \n",
    "# Đưa toàn bộ dữ liệu qua hàm này để chuẩn hóa lại\n",
    "def convert_unicode(txt):\n",
    "    dicchar = loaddicchar()\n",
    "    return regex.sub(\n",
    "        r'à|á|ả|ã|ạ|ầ|ấ|ẩ|ẫ|ậ|ằ|ắ|ẳ|ẵ|ặ|è|é|ẻ|ẽ|ẹ|ề|ế|ể|ễ|ệ|ì|í|ỉ|ĩ|ị|ò|ó|ỏ|õ|ọ|ồ|ố|ổ|ỗ|ộ|ờ|ớ|ở|ỡ|ợ|ù|ú|ủ|ũ|ụ|ừ|ứ|ử|ữ|ự|ỳ|ý|ỷ|ỹ|ỵ|À|Á|Ả|Ã|Ạ|Ầ|Ấ|Ẩ|Ẫ|Ậ|Ằ|Ắ|Ẳ|Ẵ|Ặ|È|É|Ẻ|Ẽ|Ẹ|Ề|Ế|Ể|Ễ|Ệ|Ì|Í|Ỉ|Ĩ|Ị|Ò|Ó|Ỏ|Õ|Ọ|Ồ|Ố|Ổ|Ỗ|Ộ|Ờ|Ớ|Ở|Ỡ|Ợ|Ù|Ú|Ủ|Ũ|Ụ|Ừ|Ứ|Ử|Ữ|Ự|Ỳ|Ý|Ỷ|Ỹ|Ỵ',\n",
    "        lambda x: dicchar[x.group()], txt)"
   ]
  },
  {
   "cell_type": "code",
   "execution_count": 6,
   "metadata": {
    "executionInfo": {
     "elapsed": 11,
     "status": "ok",
     "timestamp": 1675687709407,
     "user": {
      "displayName": "Lưu Nguyễn Khải Hoàn",
      "userId": "12754983180713265756"
     },
     "user_tz": -420
    },
    "id": "92LeWTwdtGAI"
   },
   "outputs": [],
   "source": [
    "# có thể bổ sung thêm các từ: chẳng, chả...\n",
    "def process_special_word(text):\n",
    "    new_text = ''\n",
    "    text_lst = text.split()\n",
    "    i= 0\n",
    "    if 'không' in text_lst:\n",
    "        while i <= len(text_lst) - 1:\n",
    "            word = text_lst[i]\n",
    "            #print(word)\n",
    "            #print(i)\n",
    "            if  word == 'không':\n",
    "                next_idx = i+1\n",
    "                if next_idx <= len(text_lst) -1:\n",
    "                    word = word +'_'+ text_lst[next_idx]\n",
    "                i= next_idx + 1\n",
    "            else:\n",
    "                i = i+1\n",
    "            new_text = new_text + word + ' '\n",
    "    else:\n",
    "        new_text = text\n",
    "    return new_text.strip()"
   ]
  },
  {
   "cell_type": "code",
   "execution_count": 7,
   "metadata": {
    "executionInfo": {
     "elapsed": 4,
     "status": "ok",
     "timestamp": 1675688492459,
     "user": {
      "displayName": "Lưu Nguyễn Khải Hoàn",
      "userId": "12754983180713265756"
     },
     "user_tz": -420
    },
    "id": "Y4C_qefxtGAJ"
   },
   "outputs": [],
   "source": [
    "def process_postag_thesea(text):\n",
    "    new_document = ''\n",
    "    for sentence in sent_tokenize(text):\n",
    "        sentence = sentence.replace('.','')\n",
    "        ###### POS tag\n",
    "        lst_word_type = ['N','NP','A','AB','V','VB','VY','R']\n",
    "        #lst_word_type = ['A','AB','V','VB','VY','R']\n",
    "        sentence = ' '.join( word[0] if word[1].upper() in lst_word_type else '' for word in pos_tag(process_special_word(word_tokenize(sentence, format=\"text\"))))\n",
    "        new_document = new_document + sentence + ' '\n",
    "    ###### DEL excess blank space\n",
    "    new_document = regex.sub(r'\\s+', ' ', new_document).strip()\n",
    "    return new_document"
   ]
  },
  {
   "cell_type": "code",
   "execution_count": 8,
   "metadata": {
    "executionInfo": {
     "elapsed": 10,
     "status": "ok",
     "timestamp": 1675687709407,
     "user": {
      "displayName": "Lưu Nguyễn Khải Hoàn",
      "userId": "12754983180713265756"
     },
     "user_tz": -420
    },
    "id": "cWPpD0qqtGAK"
   },
   "outputs": [],
   "source": [
    "def remove_stopword(text, stopwords):\n",
    "    ###### REMOVE stop words\n",
    "    document = ' '.join('' if word in stopwords else word for word in text.split())\n",
    "    #print(document)\n",
    "    ###### DEL excess blank space\n",
    "    document = regex.sub(r'\\s+', ' ', document).strip()\n",
    "    return document"
   ]
  },
  {
   "cell_type": "code",
   "execution_count": 9,
   "metadata": {
    "colab": {
     "base_uri": "https://localhost:8080/"
    },
    "executionInfo": {
     "elapsed": 10,
     "status": "ok",
     "timestamp": 1675687709408,
     "user": {
      "displayName": "Lưu Nguyễn Khải Hoàn",
      "userId": "12754983180713265756"
     },
     "user_tz": -420
    },
    "id": "pK_5r2Fhwzl3",
    "outputId": "91746583-34bc-4f34-93ed-229e1642927d"
   },
   "outputs": [],
   "source": [
    "# %cd '/content/gdrive/My Drive/Data_Sicience/LDS0_K282_ONLINE_LuuNguyenKhaiHoan/Project_1/Data/'"
   ]
  },
  {
   "cell_type": "code",
   "execution_count": 10,
   "metadata": {
    "executionInfo": {
     "elapsed": 8,
     "status": "ok",
     "timestamp": 1675687709408,
     "user": {
      "displayName": "Lưu Nguyễn Khải Hoàn",
      "userId": "12754983180713265756"
     },
     "user_tz": -420
    },
    "id": "UQnB7R5YuMX8"
   },
   "outputs": [],
   "source": [
    "import findspark\n",
    "findspark.init()"
   ]
  },
  {
   "cell_type": "code",
   "execution_count": 11,
   "metadata": {},
   "outputs": [],
   "source": [
    "import pyspark"
   ]
  },
  {
   "cell_type": "code",
   "execution_count": 12,
   "metadata": {
    "executionInfo": {
     "elapsed": 8,
     "status": "ok",
     "timestamp": 1675687709408,
     "user": {
      "displayName": "Lưu Nguyễn Khải Hoàn",
      "userId": "12754983180713265756"
     },
     "user_tz": -420
    },
    "id": "bSRwsQ6ouP8y"
   },
   "outputs": [],
   "source": [
    "from pyspark.sql import SparkSession\n",
    "from pyspark import SparkContext\n",
    "from pyspark import SparkConf\n",
    "from pyspark.sql import SparkSession\n",
    "from pyspark.sql.functions import length\n",
    "\n",
    "from pyspark.sql import SparkSession\n",
    "from pyspark.ml.feature import Tokenizer, StopWordsRemover\n",
    "from pyspark.ml.feature import CountVectorizer, IDF, StringIndexer, VectorIndexer\n",
    "from pyspark.ml.classification import NaiveBayes\n",
    "from pyspark.ml.classification import DecisionTreeClassifier\n",
    "from pyspark.ml.classification import RandomForestClassifier\n",
    "from pyspark.ml.classification import GBTClassifier\n",
    "from pyspark.ml.classification import LogisticRegression, LinearSVC\n",
    "from pyspark.ml import Pipeline\n",
    "from pyspark.ml.evaluation import MulticlassClassificationEvaluator\n",
    "from pyspark.ml.feature import VectorAssembler\n",
    "from pyspark.ml.linalg import Vector\n",
    "from pyspark.sql.functions import col, lit\n",
    "import pyspark.sql.functions as F"
   ]
  },
  {
   "cell_type": "code",
   "execution_count": 13,
   "metadata": {
    "executionInfo": {
     "elapsed": 13134,
     "status": "ok",
     "timestamp": 1675687722535,
     "user": {
      "displayName": "Lưu Nguyễn Khải Hoàn",
      "userId": "12754983180713265756"
     },
     "user_tz": -420
    },
    "id": "9iOF-T3CuSdK"
   },
   "outputs": [],
   "source": [
    "#SparkContext.setSystemProperty('spark.executor.memory', '12g')\n",
    "conf = SparkConf()\n",
    "conf.set('spark.executor.memory', '12g')\n",
    "conf.set('spark.driver.memory', '20g')\n",
    "conf.set('spark.cores.max', '16')\n",
    "sc = SparkContext.getOrCreate(conf)"
   ]
  },
  {
   "cell_type": "code",
   "execution_count": 14,
   "metadata": {
    "executionInfo": {
     "elapsed": 503,
     "status": "ok",
     "timestamp": 1675687723033,
     "user": {
      "displayName": "Lưu Nguyễn Khải Hoàn",
      "userId": "12754983180713265756"
     },
     "user_tz": -420
    },
    "id": "cudQp_DFuTzS"
   },
   "outputs": [],
   "source": [
    "spark=SparkSession(sc)"
   ]
  },
  {
   "cell_type": "code",
   "execution_count": 15,
   "metadata": {},
   "outputs": [],
   "source": [
    "import pandas as pd\n",
    "data = pd.read_csv(\"Products_Shopee_comments.csv\", delimiter=',')"
   ]
  },
  {
   "cell_type": "code",
   "execution_count": 16,
   "metadata": {
    "colab": {
     "base_uri": "https://localhost:8080/"
    },
    "executionInfo": {
     "elapsed": 30481,
     "status": "ok",
     "timestamp": 1675687753512,
     "user": {
      "displayName": "Lưu Nguyễn Khải Hoàn",
      "userId": "12754983180713265756"
     },
     "user_tz": -420
    },
    "id": "6RDxcmBMuU56",
    "outputId": "2e706f8e-1122-4f76-a681-aa8b552256fa"
   },
   "outputs": [],
   "source": [
    "# data=spark.read.csv(\"Products_Shopee_comments.csv\",inferSchema=True,header=True)\n",
    "# data.printSchema()"
   ]
  },
  {
   "cell_type": "code",
   "execution_count": 17,
   "metadata": {
    "colab": {
     "base_uri": "https://localhost:8080/"
    },
    "executionInfo": {
     "elapsed": 405,
     "status": "ok",
     "timestamp": 1675689563037,
     "user": {
      "displayName": "Lưu Nguyễn Khải Hoàn",
      "userId": "12754983180713265756"
     },
     "user_tz": -420
    },
    "id": "N8yEiKr7uiSW",
    "outputId": "dd9a3c80-ab55-4845-b46d-fd8f1da22387"
   },
   "outputs": [
    {
     "data": {
      "text/html": [
       "<div>\n",
       "<style scoped>\n",
       "    .dataframe tbody tr th:only-of-type {\n",
       "        vertical-align: middle;\n",
       "    }\n",
       "\n",
       "    .dataframe tbody tr th {\n",
       "        vertical-align: top;\n",
       "    }\n",
       "\n",
       "    .dataframe thead th {\n",
       "        text-align: right;\n",
       "    }\n",
       "</style>\n",
       "<table border=\"1\" class=\"dataframe\">\n",
       "  <thead>\n",
       "    <tr style=\"text-align: right;\">\n",
       "      <th></th>\n",
       "      <th>product_id</th>\n",
       "      <th>category</th>\n",
       "      <th>sub_category</th>\n",
       "      <th>user</th>\n",
       "      <th>rating</th>\n",
       "      <th>comment</th>\n",
       "    </tr>\n",
       "  </thead>\n",
       "  <tbody>\n",
       "    <tr>\n",
       "      <th>0</th>\n",
       "      <td>32</td>\n",
       "      <td>Điện Thoại &amp; Phụ Kiện</td>\n",
       "      <td>Bảo vệ màn hình</td>\n",
       "      <td>sangth63</td>\n",
       "      <td>3</td>\n",
       "      <td>Miếng dán hơi dầy ko thẩm mỹ. Qan trong là ko ...</td>\n",
       "    </tr>\n",
       "    <tr>\n",
       "      <th>1</th>\n",
       "      <td>32</td>\n",
       "      <td>Điện Thoại &amp; Phụ Kiện</td>\n",
       "      <td>Bảo vệ màn hình</td>\n",
       "      <td>truongthinga260787</td>\n",
       "      <td>3</td>\n",
       "      <td>Mua nhiều miếng dán ở shop rồi, nhưng thật sự ...</td>\n",
       "    </tr>\n",
       "    <tr>\n",
       "      <th>2</th>\n",
       "      <td>32</td>\n",
       "      <td>Điện Thoại &amp; Phụ Kiện</td>\n",
       "      <td>Bảo vệ màn hình</td>\n",
       "      <td>n*****0</td>\n",
       "      <td>3</td>\n",
       "      <td>NaN</td>\n",
       "    </tr>\n",
       "    <tr>\n",
       "      <th>3</th>\n",
       "      <td>32</td>\n",
       "      <td>Điện Thoại &amp; Phụ Kiện</td>\n",
       "      <td>Bảo vệ màn hình</td>\n",
       "      <td>hoanhq123</td>\n",
       "      <td>3</td>\n",
       "      <td>NaN</td>\n",
       "    </tr>\n",
       "    <tr>\n",
       "      <th>4</th>\n",
       "      <td>32</td>\n",
       "      <td>Điện Thoại &amp; Phụ Kiện</td>\n",
       "      <td>Bảo vệ màn hình</td>\n",
       "      <td>vanguyen411</td>\n",
       "      <td>2</td>\n",
       "      <td>Giao sai sp, đặt 1 cường lực trắng cho 8+ nhưn...</td>\n",
       "    </tr>\n",
       "  </tbody>\n",
       "</table>\n",
       "</div>"
      ],
      "text/plain": [
       "   product_id               category     sub_category                user  \\\n",
       "0          32  Điện Thoại & Phụ Kiện  Bảo vệ màn hình            sangth63   \n",
       "1          32  Điện Thoại & Phụ Kiện  Bảo vệ màn hình  truongthinga260787   \n",
       "2          32  Điện Thoại & Phụ Kiện  Bảo vệ màn hình             n*****0   \n",
       "3          32  Điện Thoại & Phụ Kiện  Bảo vệ màn hình           hoanhq123   \n",
       "4          32  Điện Thoại & Phụ Kiện  Bảo vệ màn hình         vanguyen411   \n",
       "\n",
       "   rating                                            comment  \n",
       "0       3  Miếng dán hơi dầy ko thẩm mỹ. Qan trong là ko ...  \n",
       "1       3  Mua nhiều miếng dán ở shop rồi, nhưng thật sự ...  \n",
       "2       3                                                NaN  \n",
       "3       3                                                NaN  \n",
       "4       2  Giao sai sp, đặt 1 cường lực trắng cho 8+ nhưn...  "
      ]
     },
     "execution_count": 17,
     "metadata": {},
     "output_type": "execute_result"
    }
   ],
   "source": [
    "data.head()"
   ]
  },
  {
   "cell_type": "code",
   "execution_count": 18,
   "metadata": {},
   "outputs": [],
   "source": [
    "cols=data.category.unique()\n",
    "count_data=data.groupby(\"category\")[[\"product_id\",\"comment\"]].count()"
   ]
  },
  {
   "cell_type": "code",
   "execution_count": 19,
   "metadata": {},
   "outputs": [
    {
     "data": {
      "text/html": [
       "<div>\n",
       "<style scoped>\n",
       "    .dataframe tbody tr th:only-of-type {\n",
       "        vertical-align: middle;\n",
       "    }\n",
       "\n",
       "    .dataframe tbody tr th {\n",
       "        vertical-align: top;\n",
       "    }\n",
       "\n",
       "    .dataframe thead th {\n",
       "        text-align: right;\n",
       "    }\n",
       "</style>\n",
       "<table border=\"1\" class=\"dataframe\">\n",
       "  <thead>\n",
       "    <tr style=\"text-align: right;\">\n",
       "      <th></th>\n",
       "      <th>product_id</th>\n",
       "      <th>comment</th>\n",
       "    </tr>\n",
       "    <tr>\n",
       "      <th>category</th>\n",
       "      <th></th>\n",
       "      <th></th>\n",
       "    </tr>\n",
       "  </thead>\n",
       "  <tbody>\n",
       "    <tr>\n",
       "      <th>Máy Tính &amp; Laptop</th>\n",
       "      <td>14820</td>\n",
       "      <td>10471</td>\n",
       "    </tr>\n",
       "    <tr>\n",
       "      <th>Máy Ảnh &amp; Máy Quay Phim</th>\n",
       "      <td>5251</td>\n",
       "      <td>3659</td>\n",
       "    </tr>\n",
       "    <tr>\n",
       "      <th>Mẹ &amp; Bé</th>\n",
       "      <td>104958</td>\n",
       "      <td>74865</td>\n",
       "    </tr>\n",
       "    <tr>\n",
       "      <th>Nhà Cửa &amp; Đời Sống</th>\n",
       "      <td>18357</td>\n",
       "      <td>11853</td>\n",
       "    </tr>\n",
       "    <tr>\n",
       "      <th>Sắc Đẹp</th>\n",
       "      <td>1261</td>\n",
       "      <td>871</td>\n",
       "    </tr>\n",
       "    <tr>\n",
       "      <th>Thiết Bị Điện Tử</th>\n",
       "      <td>17129</td>\n",
       "      <td>10772</td>\n",
       "    </tr>\n",
       "    <tr>\n",
       "      <th>Thời Trang Nam</th>\n",
       "      <td>1041870</td>\n",
       "      <td>537950</td>\n",
       "    </tr>\n",
       "    <tr>\n",
       "      <th>Thời Trang Nữ</th>\n",
       "      <td>584108</td>\n",
       "      <td>229628</td>\n",
       "    </tr>\n",
       "    <tr>\n",
       "      <th>Điện Thoại &amp; Phụ Kiện</th>\n",
       "      <td>97403</td>\n",
       "      <td>61233</td>\n",
       "    </tr>\n",
       "  </tbody>\n",
       "</table>\n",
       "</div>"
      ],
      "text/plain": [
       "                         product_id  comment\n",
       "category                                    \n",
       "Máy Tính & Laptop             14820    10471\n",
       "Máy Ảnh & Máy Quay Phim        5251     3659\n",
       "Mẹ & Bé                      104958    74865\n",
       "Nhà Cửa & Đời Sống            18357    11853\n",
       "Sắc Đẹp                        1261      871\n",
       "Thiết Bị Điện Tử              17129    10772\n",
       "Thời Trang Nam              1041870   537950\n",
       "Thời Trang Nữ                584108   229628\n",
       "Điện Thoại & Phụ Kiện         97403    61233"
      ]
     },
     "execution_count": 19,
     "metadata": {},
     "output_type": "execute_result"
    }
   ],
   "source": [
    "count_data.head(10)"
   ]
  },
  {
   "cell_type": "code",
   "execution_count": 20,
   "metadata": {},
   "outputs": [
    {
     "name": "stdout",
     "output_type": "stream",
     "text": [
      "Máy Tính & Laptop :\n",
      "\t- Số lượng dữ liệu: 14820 dòng\n",
      "\t- Số lượng dữ liệu không null: 10471 dòng\n",
      "Máy Ảnh & Máy Quay Phim :\n",
      "\t- Số lượng dữ liệu: 5251 dòng\n",
      "\t- Số lượng dữ liệu không null: 3659 dòng\n",
      "Mẹ & Bé :\n",
      "\t- Số lượng dữ liệu: 104958 dòng\n",
      "\t- Số lượng dữ liệu không null: 74865 dòng\n",
      "Nhà Cửa & Đời Sống :\n",
      "\t- Số lượng dữ liệu: 18357 dòng\n",
      "\t- Số lượng dữ liệu không null: 11853 dòng\n",
      "Sắc Đẹp :\n",
      "\t- Số lượng dữ liệu: 1261 dòng\n",
      "\t- Số lượng dữ liệu không null: 871 dòng\n",
      "Thiết Bị Điện Tử :\n",
      "\t- Số lượng dữ liệu: 17129 dòng\n",
      "\t- Số lượng dữ liệu không null: 10772 dòng\n",
      "Thời Trang Nam :\n",
      "\t- Số lượng dữ liệu: 1041870 dòng\n",
      "\t- Số lượng dữ liệu không null: 537950 dòng\n",
      "Thời Trang Nữ :\n",
      "\t- Số lượng dữ liệu: 584108 dòng\n",
      "\t- Số lượng dữ liệu không null: 229628 dòng\n",
      "Điện Thoại & Phụ Kiện :\n",
      "\t- Số lượng dữ liệu: 97403 dòng\n",
      "\t- Số lượng dữ liệu không null: 61233 dòng\n"
     ]
    }
   ],
   "source": [
    "for col in count_data.index:\n",
    "    print(col,\":\")\n",
    "    print(\"\\t- Số lượng dữ liệu:\", count_data.loc[col][\"product_id\"],\"dòng\")\n",
    "    print(\"\\t- Số lượng dữ liệu không null:\", count_data.loc[col][\"comment\"],\"dòng\")"
   ]
  },
  {
   "cell_type": "code",
   "execution_count": 21,
   "metadata": {
    "executionInfo": {
     "elapsed": 9,
     "status": "ok",
     "timestamp": 1675691434732,
     "user": {
      "displayName": "Lưu Nguyễn Khải Hoàn",
      "userId": "12754983180713265756"
     },
     "user_tz": -420
    },
    "id": "wKugJukN4YNr"
   },
   "outputs": [],
   "source": [
    "sub_data = data[(data[\"category\"]==\"Điện Thoại & Phụ Kiện\")|(data[\"category\"]==\"Máy Tính & Laptop\")| (data[\"category\"]==\"Máy Ảnh & Máy Quay Phim\")][[\"comment\",\"rating\"]]"
   ]
  },
  {
   "cell_type": "code",
   "execution_count": 22,
   "metadata": {
    "colab": {
     "base_uri": "https://localhost:8080/"
    },
    "executionInfo": {
     "elapsed": 519,
     "status": "ok",
     "timestamp": 1675691435244,
     "user": {
      "displayName": "Lưu Nguyễn Khải Hoàn",
      "userId": "12754983180713265756"
     },
     "user_tz": -420
    },
    "id": "2pba-SeU5mof",
    "outputId": "4e0c3d2a-23c7-41d6-bb81-391717eb9832"
   },
   "outputs": [
    {
     "data": {
      "text/html": [
       "<div>\n",
       "<style scoped>\n",
       "    .dataframe tbody tr th:only-of-type {\n",
       "        vertical-align: middle;\n",
       "    }\n",
       "\n",
       "    .dataframe tbody tr th {\n",
       "        vertical-align: top;\n",
       "    }\n",
       "\n",
       "    .dataframe thead th {\n",
       "        text-align: right;\n",
       "    }\n",
       "</style>\n",
       "<table border=\"1\" class=\"dataframe\">\n",
       "  <thead>\n",
       "    <tr style=\"text-align: right;\">\n",
       "      <th></th>\n",
       "      <th>comment</th>\n",
       "      <th>rating</th>\n",
       "    </tr>\n",
       "  </thead>\n",
       "  <tbody>\n",
       "    <tr>\n",
       "      <th>0</th>\n",
       "      <td>Miếng dán hơi dầy ko thẩm mỹ. Qan trong là ko ...</td>\n",
       "      <td>3</td>\n",
       "    </tr>\n",
       "    <tr>\n",
       "      <th>1</th>\n",
       "      <td>Mua nhiều miếng dán ở shop rồi, nhưng thật sự ...</td>\n",
       "      <td>3</td>\n",
       "    </tr>\n",
       "    <tr>\n",
       "      <th>2</th>\n",
       "      <td>NaN</td>\n",
       "      <td>3</td>\n",
       "    </tr>\n",
       "    <tr>\n",
       "      <th>3</th>\n",
       "      <td>NaN</td>\n",
       "      <td>3</td>\n",
       "    </tr>\n",
       "    <tr>\n",
       "      <th>4</th>\n",
       "      <td>Giao sai sp, đặt 1 cường lực trắng cho 8+ nhưn...</td>\n",
       "      <td>2</td>\n",
       "    </tr>\n",
       "    <tr>\n",
       "      <th>5</th>\n",
       "      <td>Đã nhận đc hàng, cảm quan ban đầu thì khá ok, ...</td>\n",
       "      <td>2</td>\n",
       "    </tr>\n",
       "    <tr>\n",
       "      <th>6</th>\n",
       "      <td>Chất lượng cái cường lực chống nhìn trộm không...</td>\n",
       "      <td>1</td>\n",
       "    </tr>\n",
       "    <tr>\n",
       "      <th>7</th>\n",
       "      <td>Kính chất lượng kém , không va đập gì cũng tự nứt</td>\n",
       "      <td>1</td>\n",
       "    </tr>\n",
       "    <tr>\n",
       "      <th>8</th>\n",
       "      <td>NaN</td>\n",
       "      <td>1</td>\n",
       "    </tr>\n",
       "    <tr>\n",
       "      <th>9</th>\n",
       "      <td>Kính cường lực loại thường này thì dở ko tả nổ...</td>\n",
       "      <td>1</td>\n",
       "    </tr>\n",
       "  </tbody>\n",
       "</table>\n",
       "</div>"
      ],
      "text/plain": [
       "                                             comment  rating\n",
       "0  Miếng dán hơi dầy ko thẩm mỹ. Qan trong là ko ...       3\n",
       "1  Mua nhiều miếng dán ở shop rồi, nhưng thật sự ...       3\n",
       "2                                                NaN       3\n",
       "3                                                NaN       3\n",
       "4  Giao sai sp, đặt 1 cường lực trắng cho 8+ nhưn...       2\n",
       "5  Đã nhận đc hàng, cảm quan ban đầu thì khá ok, ...       2\n",
       "6  Chất lượng cái cường lực chống nhìn trộm không...       1\n",
       "7  Kính chất lượng kém , không va đập gì cũng tự nứt       1\n",
       "8                                                NaN       1\n",
       "9  Kính cường lực loại thường này thì dở ko tả nổ...       1"
      ]
     },
     "execution_count": 22,
     "metadata": {},
     "output_type": "execute_result"
    }
   ],
   "source": [
    "sub_data.head(10)"
   ]
  },
  {
   "cell_type": "code",
   "execution_count": 23,
   "metadata": {},
   "outputs": [
    {
     "name": "stdout",
     "output_type": "stream",
     "text": [
      "<class 'pandas.core.frame.DataFrame'>\n",
      "Int64Index: 117474 entries, 0 to 117473\n",
      "Data columns (total 2 columns):\n",
      " #   Column   Non-Null Count   Dtype \n",
      "---  ------   --------------   ----- \n",
      " 0   comment  75363 non-null   object\n",
      " 1   rating   117474 non-null  int64 \n",
      "dtypes: int64(1), object(1)\n",
      "memory usage: 2.7+ MB\n"
     ]
    }
   ],
   "source": [
    "sub_data.info()"
   ]
  },
  {
   "cell_type": "code",
   "execution_count": 24,
   "metadata": {
    "executionInfo": {
     "elapsed": 4,
     "status": "ok",
     "timestamp": 1675691439843,
     "user": {
      "displayName": "Lưu Nguyễn Khải Hoàn",
      "userId": "12754983180713265756"
     },
     "user_tz": -420
    },
    "id": "MsKAYx3n-_Am"
   },
   "outputs": [],
   "source": [
    "stringcols = sub_data.select_dtypes(include='object').columns\n",
    "sub_data[stringcols] = sub_data[stringcols].astype(\"str\")"
   ]
  },
  {
   "cell_type": "code",
   "execution_count": 25,
   "metadata": {
    "colab": {
     "base_uri": "https://localhost:8080/"
    },
    "executionInfo": {
     "elapsed": 791,
     "status": "ok",
     "timestamp": 1675691456722,
     "user": {
      "displayName": "Lưu Nguyễn Khải Hoàn",
      "userId": "12754983180713265756"
     },
     "user_tz": -420
    },
    "id": "Qh8vUKQj9S_F",
    "outputId": "fc86c21a-bab9-4602-e8e2-aadaefcefb2e"
   },
   "outputs": [
    {
     "data": {
      "text/html": [
       "<div>\n",
       "<style scoped>\n",
       "    .dataframe tbody tr th:only-of-type {\n",
       "        vertical-align: middle;\n",
       "    }\n",
       "\n",
       "    .dataframe tbody tr th {\n",
       "        vertical-align: top;\n",
       "    }\n",
       "\n",
       "    .dataframe thead th {\n",
       "        text-align: right;\n",
       "    }\n",
       "</style>\n",
       "<table border=\"1\" class=\"dataframe\">\n",
       "  <thead>\n",
       "    <tr style=\"text-align: right;\">\n",
       "      <th></th>\n",
       "      <th>comment</th>\n",
       "    </tr>\n",
       "  </thead>\n",
       "  <tbody>\n",
       "    <tr>\n",
       "      <th>0</th>\n",
       "      <td>Miếng dán hơi dầy ko thẩm mỹ. Qan trong là ko ...</td>\n",
       "    </tr>\n",
       "    <tr>\n",
       "      <th>1</th>\n",
       "      <td>Mua nhiều miếng dán ở shop rồi, nhưng thật sự ...</td>\n",
       "    </tr>\n",
       "    <tr>\n",
       "      <th>2</th>\n",
       "      <td>nan</td>\n",
       "    </tr>\n",
       "    <tr>\n",
       "      <th>3</th>\n",
       "      <td>nan</td>\n",
       "    </tr>\n",
       "    <tr>\n",
       "      <th>4</th>\n",
       "      <td>Giao sai sp, đặt 1 cường lực trắng cho 8+ nhưn...</td>\n",
       "    </tr>\n",
       "    <tr>\n",
       "      <th>...</th>\n",
       "      <td>...</td>\n",
       "    </tr>\n",
       "    <tr>\n",
       "      <th>117469</th>\n",
       "      <td>nan</td>\n",
       "    </tr>\n",
       "    <tr>\n",
       "      <th>117470</th>\n",
       "      <td>Hình ảnh chỉ mang tính chất nhận xu. Hàng rẻ n...</td>\n",
       "    </tr>\n",
       "    <tr>\n",
       "      <th>117471</th>\n",
       "      <td>Chán cái shop này kiểu mày mua kệ mẹ mày</td>\n",
       "    </tr>\n",
       "    <tr>\n",
       "      <th>117472</th>\n",
       "      <td>Ban đầu cho 5* vì tưởng ok, mua về để chờ thi ...</td>\n",
       "    </tr>\n",
       "    <tr>\n",
       "      <th>117473</th>\n",
       "      <td>, Shop phục vụ rất kém</td>\n",
       "    </tr>\n",
       "  </tbody>\n",
       "</table>\n",
       "<p>117474 rows × 1 columns</p>\n",
       "</div>"
      ],
      "text/plain": [
       "                                                  comment\n",
       "0       Miếng dán hơi dầy ko thẩm mỹ. Qan trong là ko ...\n",
       "1       Mua nhiều miếng dán ở shop rồi, nhưng thật sự ...\n",
       "2                                                     nan\n",
       "3                                                     nan\n",
       "4       Giao sai sp, đặt 1 cường lực trắng cho 8+ nhưn...\n",
       "...                                                   ...\n",
       "117469                                                nan\n",
       "117470  Hình ảnh chỉ mang tính chất nhận xu. Hàng rẻ n...\n",
       "117471           Chán cái shop này kiểu mày mua kệ mẹ mày\n",
       "117472  Ban đầu cho 5* vì tưởng ok, mua về để chờ thi ...\n",
       "117473                             , Shop phục vụ rất kém\n",
       "\n",
       "[117474 rows x 1 columns]"
      ]
     },
     "execution_count": 25,
     "metadata": {},
     "output_type": "execute_result"
    }
   ],
   "source": [
    "sub_data[stringcols]"
   ]
  },
  {
   "cell_type": "code",
   "execution_count": 26,
   "metadata": {
    "id": "NYtKej6YANZJ"
   },
   "outputs": [
    {
     "name": "stdout",
     "output_type": "stream",
     "text": [
      "root\n",
      " |-- comment: string (nullable = true)\n",
      " |-- rating: long (nullable = true)\n",
      "\n"
     ]
    }
   ],
   "source": [
    "sub_data=spark.createDataFrame(sub_data) \n",
    "sub_data.printSchema()"
   ]
  },
  {
   "cell_type": "code",
   "execution_count": 27,
   "metadata": {},
   "outputs": [
    {
     "name": "stdout",
     "output_type": "stream",
     "text": [
      "+--------------------+------+\n",
      "|             comment|rating|\n",
      "+--------------------+------+\n",
      "|Miếng dán hơi dầy...|     3|\n",
      "|Mua nhiều miếng d...|     3|\n",
      "|                 nan|     3|\n",
      "+--------------------+------+\n",
      "only showing top 3 rows\n",
      "\n"
     ]
    }
   ],
   "source": [
    "sub_data.show(3)"
   ]
  },
  {
   "cell_type": "code",
   "execution_count": 28,
   "metadata": {},
   "outputs": [
    {
     "data": {
      "text/plain": [
       "117474"
      ]
     },
     "execution_count": 28,
     "metadata": {},
     "output_type": "execute_result"
    }
   ],
   "source": [
    "sub_data.count()"
   ]
  },
  {
   "cell_type": "code",
   "execution_count": 29,
   "metadata": {},
   "outputs": [],
   "source": [
    "from pyspark.sql.functions import col, isnan, when, trim\n",
    "def to_null(c):\n",
    "    return when(~(col(c).isNull() | isnan(col(c)) | (trim(col(c)) == \"\")), col(c))"
   ]
  },
  {
   "cell_type": "code",
   "execution_count": 30,
   "metadata": {},
   "outputs": [],
   "source": [
    "sub_data=sub_data.select([to_null(c).alias(c) for c in sub_data.columns]).na.drop()"
   ]
  },
  {
   "cell_type": "code",
   "execution_count": 31,
   "metadata": {},
   "outputs": [
    {
     "data": {
      "text/plain": [
       "75361"
      ]
     },
     "execution_count": 31,
     "metadata": {},
     "output_type": "execute_result"
    }
   ],
   "source": [
    "sub_data.count()"
   ]
  },
  {
   "cell_type": "code",
   "execution_count": 32,
   "metadata": {},
   "outputs": [],
   "source": [
    "sub_data = sub_data.dropna()"
   ]
  },
  {
   "cell_type": "code",
   "execution_count": 33,
   "metadata": {},
   "outputs": [
    {
     "data": {
      "text/plain": [
       "75361"
      ]
     },
     "execution_count": 33,
     "metadata": {},
     "output_type": "execute_result"
    }
   ],
   "source": [
    "sub_data.count()"
   ]
  },
  {
   "cell_type": "code",
   "execution_count": null,
   "metadata": {},
   "outputs": [],
   "source": [
    "# sub_data=sub_data[sub_data[\"rating\"]!=\"3\"]"
   ]
  },
  {
   "cell_type": "code",
   "execution_count": 34,
   "metadata": {},
   "outputs": [],
   "source": [
    "sub_data=sub_data.withColumn('class', \n",
    "    F.when(F.col('rating')>3, \"like\")\n",
    "    .otherwise(F.when((F.col('rating')<=2), \"dislike\")\n",
    "    .otherwise(\"neutral\")))"
   ]
  },
  {
   "cell_type": "code",
   "execution_count": 35,
   "metadata": {},
   "outputs": [
    {
     "name": "stdout",
     "output_type": "stream",
     "text": [
      "+--------------------+------+-------+\n",
      "|             comment|rating|  class|\n",
      "+--------------------+------+-------+\n",
      "|Miếng dán hơi dầy...|     3|neutral|\n",
      "|Mua nhiều miếng d...|     3|neutral|\n",
      "|Giao sai sp, đặt ...|     2|dislike|\n",
      "|Đã nhận đc hàng, ...|     2|dislike|\n",
      "|Chất lượng cái cư...|     1|dislike|\n",
      "|Kính chất lượng k...|     1|dislike|\n",
      "|Kính cường lực lo...|     1|dislike|\n",
      "|bị vỡ mà bắt làm ...|     1|dislike|\n",
      "|Kính 21d thì bụi ...|     1|dislike|\n",
      "|Đóng hàng chắc ch...|     3|neutral|\n",
      "|Giao sai hàng, mì...|     2|dislike|\n",
      "|không vừa hở gần ...|     2|dislike|\n",
      "|  Sp bé hơn màn hình|     2|dislike|\n",
      "|Đặt mi7 mà giao c...|     1|dislike|\n",
      "|Đặt hàng 3 miếng....|     1|dislike|\n",
      "|Sản phẩm thực sự ...|     2|dislike|\n",
      "|Để mình đánh giá ...|     2|dislike|\n",
      "|Ko phải hàng chín...|     2|dislike|\n",
      "|Chất lượng sản ph...|     2|dislike|\n",
      "|Mua 2 cái cường l...|     2|dislike|\n",
      "+--------------------+------+-------+\n",
      "only showing top 20 rows\n",
      "\n"
     ]
    }
   ],
   "source": [
    "sub_data.show(20)"
   ]
  },
  {
   "cell_type": "code",
   "execution_count": 36,
   "metadata": {},
   "outputs": [],
   "source": [
    "# sub_data[sub_data[\"rating\"]==\"3\"].show()"
   ]
  },
  {
   "cell_type": "code",
   "execution_count": 37,
   "metadata": {},
   "outputs": [
    {
     "name": "stdout",
     "output_type": "stream",
     "text": [
      "+-------+--------------------+\n",
      "|  class|             comment|\n",
      "+-------+--------------------+\n",
      "|neutral|Miếng dán hơi dầy...|\n",
      "|neutral|Mua nhiều miếng d...|\n",
      "|dislike|Giao sai sp, đặt ...|\n",
      "|dislike|Đã nhận đc hàng, ...|\n",
      "|dislike|Chất lượng cái cư...|\n",
      "|dislike|Kính chất lượng k...|\n",
      "|dislike|Kính cường lực lo...|\n",
      "|dislike|bị vỡ mà bắt làm ...|\n",
      "|dislike|Kính 21d thì bụi ...|\n",
      "|neutral|Đóng hàng chắc ch...|\n",
      "+-------+--------------------+\n",
      "only showing top 10 rows\n",
      "\n"
     ]
    }
   ],
   "source": [
    "sub_data_1=sub_data.select(\"class\",\"comment\")\n",
    "sub_data_1.show(10)"
   ]
  },
  {
   "cell_type": "code",
   "execution_count": 38,
   "metadata": {},
   "outputs": [],
   "source": [
    "sub_data_1 = sub_data_1.withColumn('length', length(sub_data_1['comment']))"
   ]
  },
  {
   "cell_type": "code",
   "execution_count": 39,
   "metadata": {},
   "outputs": [
    {
     "name": "stdout",
     "output_type": "stream",
     "text": [
      "+-------+-----------------+\n",
      "|  class|      avg(length)|\n",
      "+-------+-----------------+\n",
      "|neutral|82.58978543366575|\n",
      "|   like|84.80255300735612|\n",
      "|dislike|92.43236430851958|\n",
      "+-------+-----------------+\n",
      "\n"
     ]
    }
   ],
   "source": [
    "sub_data_1.groupby('class').mean().show()"
   ]
  },
  {
   "cell_type": "code",
   "execution_count": 40,
   "metadata": {},
   "outputs": [
    {
     "name": "stdout",
     "output_type": "stream",
     "text": [
      "+-------+--------------------+------+\n",
      "|  class|             comment|length|\n",
      "+-------+--------------------+------+\n",
      "|neutral|Miếng dán hơi dầy...|    59|\n",
      "|neutral|Mua nhiều miếng d...|   152|\n",
      "|dislike|Giao sai sp, đặt ...|    71|\n",
      "+-------+--------------------+------+\n",
      "only showing top 3 rows\n",
      "\n"
     ]
    }
   ],
   "source": [
    "sub_data_1.show(3)"
   ]
  },
  {
   "cell_type": "code",
   "execution_count": 41,
   "metadata": {},
   "outputs": [],
   "source": [
    "from pyspark.sql.functions import udf\n",
    "\n",
    "def pre_underthesea(s):\n",
    "    document=process_text(s,emoji_dict,teen_dict,wrong_lst)\n",
    "    document=convert_unicode(document)\n",
    "    document=process_postag_thesea(document)\n",
    "    document=remove_stopword(document,stopwords_lst)\n",
    "    return document\n",
    "\n",
    "pre_underthesea_udf = udf(pre_underthesea)\n",
    "\n",
    "df_pre=sub_data_1.withColumn(\"pre_comment\", pre_underthesea_udf(\"comment\"))"
   ]
  },
  {
   "cell_type": "code",
   "execution_count": 42,
   "metadata": {},
   "outputs": [
    {
     "name": "stdout",
     "output_type": "stream",
     "text": [
      "+-------+--------------------+------+--------------------+\n",
      "|  class|             comment|length|         pre_comment|\n",
      "+-------+--------------------+------+--------------------+\n",
      "|neutral|Miếng dán hơi dầy...|    59|   miếng dán hơi dầy|\n",
      "|neutral|Mua nhiều miếng d...|   152|miếng dán tồi bóc...|\n",
      "|dislike|Giao sai sp, đặt ...|    71|cường_lực trắng m...|\n",
      "+-------+--------------------+------+--------------------+\n",
      "only showing top 3 rows\n",
      "\n"
     ]
    }
   ],
   "source": [
    "df_pre.show(3)"
   ]
  },
  {
   "cell_type": "code",
   "execution_count": 43,
   "metadata": {},
   "outputs": [
    {
     "data": {
      "text/plain": [
       "[Row(class='neutral', comment='Miếng dán hơi dầy ko thẩm mỹ. Qan trong là ko giong mieu ta', length=59, pre_comment='miếng dán hơi dầy'),\n",
       " Row(class='neutral', comment='Mua nhiều miếng dán ở shop rồi, nhưng thật sự lần này rất tồi, bóc ra đầy bụi bên trong, mong shop có thể giải quyết thoả đáng, sđt của mình: 0972918495', length=152, pre_comment='miếng dán tồi bóc bụi giải_quyết thỏa_đáng điện_thoại'),\n",
       " Row(class='dislike', comment='Giao sai sp, đặt 1 cường lực trắng cho 8+ nhưng lại giao màu đen!!!!!!!', length=71, pre_comment='cường_lực trắng màu đen'),\n",
       " Row(class='dislike', comment='Đã nhận đc hàng, cảm quan ban đầu thì khá ok, nhưng mặt nhanh xước dã man, mới dán lúc chiều mà tối đã xước rồi. Chất lượng kém qá', length=130, pre_comment='hàng cảm_quan đầu khá mặt xước dã dán chiều tối xước chất_lượng kém quá'),\n",
       " Row(class='dislike', comment='Chất lượng cái cường lực chống nhìn trộm không như quảng cáo..thất vọng quá..nhìn cái hình thì chống nhìn trộm kiểu gì đây shop ???\\nChắc không dám mua thêm lần 2', length=161, pre_comment='chất_lượng cường_lực chống trộm không_như quảng_cáo thất_vọng quá hình chống trộm kiểu không_dám')]"
      ]
     },
     "execution_count": 43,
     "metadata": {},
     "output_type": "execute_result"
    }
   ],
   "source": [
    "df_pre.take(5)"
   ]
  },
  {
   "cell_type": "code",
   "execution_count": null,
   "metadata": {},
   "outputs": [],
   "source": [
    "# rdd2=sub_data_1.rdd.map(lambda x:(x[0],(process_text(x[1],emoji_dict,teen_dict,wrong_lst)),x[2]))\n",
    "# rdd2=rdd2.toDF([\"comment\",\"class\",\"length\"])"
   ]
  },
  {
   "cell_type": "code",
   "execution_count": null,
   "metadata": {},
   "outputs": [],
   "source": [
    "# df_pre.select(\"neutral\").count()/df_pre.count"
   ]
  },
  {
   "cell_type": "code",
   "execution_count": null,
   "metadata": {},
   "outputs": [],
   "source": [
    "# df_pre.select(\"like\").count()/df_pre.count"
   ]
  },
  {
   "cell_type": "code",
   "execution_count": null,
   "metadata": {},
   "outputs": [],
   "source": [
    "# df_pre.select(\"dislike\").count()/df_pre.count"
   ]
  },
  {
   "cell_type": "code",
   "execution_count": null,
   "metadata": {},
   "outputs": [],
   "source": [
    "#(trainDF,testDF) = df_pre.randomSplit((0.7,0.3),seed=42)"
   ]
  },
  {
   "cell_type": "code",
   "execution_count": 47,
   "metadata": {},
   "outputs": [],
   "source": [
    "tokenizer = Tokenizer(inputCol='pre_comment', outputCol='token_text')\n",
    "# stopremove = StopWordsRemover(inputCol='token_text', outputCol='stop_tokens')\n",
    "count_vec = CountVectorizer(inputCol='token_text', outputCol='c_vec')\n",
    "idf = IDF(inputCol='c_vec', outputCol='tf_idf')\n",
    "class_to_num = StringIndexer(inputCol='class',outputCol='label')"
   ]
  },
  {
   "cell_type": "code",
   "execution_count": 48,
   "metadata": {},
   "outputs": [],
   "source": [
    "clean_up = VectorAssembler(inputCols=['tf_idf','label'], outputCol='features')"
   ]
  },
  {
   "cell_type": "code",
   "execution_count": 49,
   "metadata": {},
   "outputs": [],
   "source": [
    "data_prep_pipe = Pipeline(stages= [class_to_num,\n",
    "                            tokenizer,\n",
    "                            count_vec,\n",
    "                            idf,\n",
    "                            clean_up])"
   ]
  },
  {
   "cell_type": "code",
   "execution_count": 50,
   "metadata": {},
   "outputs": [],
   "source": [
    "cleaner = data_prep_pipe.fit(df_pre)"
   ]
  },
  {
   "cell_type": "code",
   "execution_count": 51,
   "metadata": {},
   "outputs": [],
   "source": [
    "clean_data= cleaner.transform(df_pre)"
   ]
  },
  {
   "cell_type": "code",
   "execution_count": 52,
   "metadata": {},
   "outputs": [],
   "source": [
    "clean_data=clean_data.select(['label', 'features'])"
   ]
  },
  {
   "cell_type": "code",
   "execution_count": 53,
   "metadata": {},
   "outputs": [],
   "source": [
    "(training, testing) = clean_data.randomSplit([0.7,0.3], seed=42)"
   ]
  },
  {
   "cell_type": "code",
   "execution_count": 54,
   "metadata": {},
   "outputs": [
    {
     "name": "stdout",
     "output_type": "stream",
     "text": [
      "+-----+-----+\n",
      "|label|count|\n",
      "+-----+-----+\n",
      "|  0.0|25248|\n",
      "|  1.0|16185|\n",
      "|  2.0|11518|\n",
      "+-----+-----+\n",
      "\n"
     ]
    }
   ],
   "source": [
    "training.groupby(\"label\").count().show()"
   ]
  },
  {
   "cell_type": "code",
   "execution_count": 55,
   "metadata": {},
   "outputs": [
    {
     "name": "stdout",
     "output_type": "stream",
     "text": [
      "+-----+--------------------+\n",
      "|label|            features|\n",
      "+-----+--------------------+\n",
      "|  0.0|(16951,[0],[1.196...|\n",
      "|  0.0|(16951,[0],[1.196...|\n",
      "|  0.0|(16951,[0],[1.196...|\n",
      "+-----+--------------------+\n",
      "only showing top 3 rows\n",
      "\n"
     ]
    }
   ],
   "source": [
    "testing.show(3)"
   ]
  },
  {
   "cell_type": "markdown",
   "metadata": {},
   "source": [
    "### DecisionTree"
   ]
  },
  {
   "cell_type": "code",
   "execution_count": 56,
   "metadata": {},
   "outputs": [],
   "source": [
    "decisionTree=DecisionTreeClassifier()"
   ]
  },
  {
   "cell_type": "code",
   "execution_count": 57,
   "metadata": {},
   "outputs": [],
   "source": [
    "predictor_decisionTree = decisionTree.fit(training)"
   ]
  },
  {
   "cell_type": "code",
   "execution_count": 58,
   "metadata": {},
   "outputs": [],
   "source": [
    "test_results = predictor_decisionTree.transform(testing)"
   ]
  },
  {
   "cell_type": "code",
   "execution_count": 59,
   "metadata": {},
   "outputs": [
    {
     "name": "stdout",
     "output_type": "stream",
     "text": [
      "+-----+----------+-----+\n",
      "|label|prediction|count|\n",
      "+-----+----------+-----+\n",
      "|  1.0|       1.0| 6925|\n",
      "|  2.0|       2.0| 5027|\n",
      "|  0.0|       0.0|10458|\n",
      "+-----+----------+-----+\n",
      "\n"
     ]
    }
   ],
   "source": [
    "test_results.groupby('label', 'prediction').count().show()"
   ]
  },
  {
   "cell_type": "code",
   "execution_count": 60,
   "metadata": {},
   "outputs": [
    {
     "name": "stdout",
     "output_type": "stream",
     "text": [
      "Accuracy of Model at  presicting spam ham is: 1.0\n"
     ]
    }
   ],
   "source": [
    "acc_eval = MulticlassClassificationEvaluator()\n",
    "acc = acc_eval.evaluate(test_results)\n",
    "print(\"Accuracy of Model at  presicting spam ham is: {}\".format(acc))"
   ]
  },
  {
   "cell_type": "code",
   "execution_count": 63,
   "metadata": {},
   "outputs": [
    {
     "name": "stdout",
     "output_type": "stream",
     "text": [
      "+-------+--------------------+\n",
      "|  class|         pre_comment|\n",
      "+-------+--------------------+\n",
      "|   like|                 tot|\n",
      "|dislike|giao sai sản phâ...|\n",
      "|neutral|san pham binh thuong|\n",
      "|neutral|khong co gi dac biet|\n",
      "+-------+--------------------+\n",
      "\n"
     ]
    }
   ],
   "source": [
    "from pyspark.sql.types import StructField, StructType, StringType, MapType\n",
    "\n",
    "\n",
    "A = {\n",
    "    \"class\": [\"like\", \"dislike\",\"neutral\",\"neutral\"],\n",
    "    \"comment\": [\"tot\",\"giao sai sản phẩm, kính mỏng dễ vỡ\",\"san pham binh thuong\",\"khong co gi dac biet\"]\n",
    "}\n",
    "\n",
    "df = pd.DataFrame(A)\n",
    "\n",
    "# from Pandas to PySpark\n",
    "df_pyspark = spark.createDataFrame(df)\n",
    "df_pyspark.show()"
   ]
  },
  {
   "cell_type": "code",
   "execution_count": 64,
   "metadata": {},
   "outputs": [
    {
     "name": "stdout",
     "output_type": "stream",
     "text": [
      "+-----+----------+-----+\n",
      "|label|prediction|count|\n",
      "+-----+----------+-----+\n",
      "|  1.0|       1.0|    1|\n",
      "|  0.0|       0.0|    1|\n",
      "|  2.0|       2.0|    2|\n",
      "+-----+----------+-----+\n",
      "\n"
     ]
    }
   ],
   "source": [
    "\n",
    "from pyspark.ml.feature import Tokenizer, StopWordsRemover\n",
    "from pyspark.ml.feature import CountVectorizer, IDF, StringIndexer, VectorIndexer\n",
    "from pyspark.ml.feature import VectorAssembler\n",
    "\n",
    "df_pyspark=df_pyspark.withColumn(\"pre_comment\", pre_underthesea_udf(\"comment\"))\n",
    "\n",
    "test_clean=cleaner.transform(df_pyspark)\n",
    "test_results_1=predictor_decisionTree.transform(test_clean)\n",
    "test_results_1.groupby('label', 'prediction').count().show()"
   ]
  },
  {
   "cell_type": "code",
   "execution_count": 65,
   "metadata": {},
   "outputs": [
    {
     "name": "stdout",
     "output_type": "stream",
     "text": [
      "+-------+--------------------+-----+--------------------+-------------+-------------+--------------------+-----------------+-------------+----------+\n",
      "|  class|         pre_comment|label|          token_text|        c_vec|       tf_idf|            features|    rawPrediction|  probability|prediction|\n",
      "+-------+--------------------+-----+--------------------+-------------+-------------+--------------------+-----------------+-------------+----------+\n",
      "|   like|                 tot|  1.0|               [tot]|(16950,[],[])|(16950,[],[])|(16951,[16950],[1...|[0.0,16185.0,0.0]|[0.0,1.0,0.0]|       1.0|\n",
      "|dislike|giao sai sản phâ...|  0.0|[giao, sai, sản,...|(16950,[],[])|(16950,[],[])|       (16951,[],[])|[25248.0,0.0,0.0]|[1.0,0.0,0.0]|       0.0|\n",
      "|neutral|san pham binh thuong|  2.0|[san, pham, binh,...|(16950,[],[])|(16950,[],[])|(16951,[16950],[2...|[0.0,0.0,11518.0]|[0.0,0.0,1.0]|       2.0|\n",
      "|neutral|khong co gi dac biet|  2.0|[khong, co, gi, d...|(16950,[],[])|(16950,[],[])|(16951,[16950],[2...|[0.0,0.0,11518.0]|[0.0,0.0,1.0]|       2.0|\n",
      "+-------+--------------------+-----+--------------------+-------------+-------------+--------------------+-----------------+-------------+----------+\n",
      "\n"
     ]
    }
   ],
   "source": [
    "test_results_1.show()"
   ]
  },
  {
   "cell_type": "markdown",
   "metadata": {},
   "source": [
    "### NaiveBayes"
   ]
  },
  {
   "cell_type": "code",
   "execution_count": 66,
   "metadata": {},
   "outputs": [],
   "source": [
    "nb = NaiveBayes()"
   ]
  },
  {
   "cell_type": "code",
   "execution_count": 67,
   "metadata": {},
   "outputs": [],
   "source": [
    "predictor_NaiveBayes = nb.fit(training)"
   ]
  },
  {
   "cell_type": "code",
   "execution_count": 68,
   "metadata": {},
   "outputs": [],
   "source": [
    "test_results_NaiveBayes = predictor_NaiveBayes.transform(testing)"
   ]
  },
  {
   "cell_type": "code",
   "execution_count": 69,
   "metadata": {},
   "outputs": [
    {
     "name": "stdout",
     "output_type": "stream",
     "text": [
      "+-----+----------+-----+\n",
      "|label|prediction|count|\n",
      "+-----+----------+-----+\n",
      "|  2.0|       0.0|  181|\n",
      "|  1.0|       1.0| 4254|\n",
      "|  0.0|       1.0| 1032|\n",
      "|  1.0|       0.0|  275|\n",
      "|  2.0|       2.0| 3605|\n",
      "|  2.0|       1.0| 1241|\n",
      "|  1.0|       2.0| 2396|\n",
      "|  0.0|       0.0| 7518|\n",
      "|  0.0|       2.0| 1908|\n",
      "+-----+----------+-----+\n",
      "\n"
     ]
    }
   ],
   "source": [
    "test_results_NaiveBayes.groupby('label', 'prediction').count().show()"
   ]
  },
  {
   "cell_type": "code",
   "execution_count": 70,
   "metadata": {},
   "outputs": [
    {
     "name": "stdout",
     "output_type": "stream",
     "text": [
      "Accuracy of Model at  presicting true - fake is: 0.7011546156824149\n"
     ]
    }
   ],
   "source": [
    "acc_eval = MulticlassClassificationEvaluator()\n",
    "acc = acc_eval.evaluate(test_results_NaiveBayes)\n",
    "print(\"Accuracy of Model at  presicting true - fake is: {}\".format(acc))"
   ]
  },
  {
   "cell_type": "markdown",
   "metadata": {},
   "source": [
    "### RandomForestClassifier"
   ]
  },
  {
   "cell_type": "code",
   "execution_count": 71,
   "metadata": {},
   "outputs": [],
   "source": [
    "rfc=RandomForestClassifier()"
   ]
  },
  {
   "cell_type": "code",
   "execution_count": 72,
   "metadata": {},
   "outputs": [],
   "source": [
    "predictor_rfc = rfc.fit(training)"
   ]
  },
  {
   "cell_type": "code",
   "execution_count": 73,
   "metadata": {},
   "outputs": [],
   "source": [
    "test_results_rfc = predictor_rfc.transform(testing)"
   ]
  },
  {
   "cell_type": "code",
   "execution_count": 74,
   "metadata": {},
   "outputs": [
    {
     "name": "stdout",
     "output_type": "stream",
     "text": [
      "+-----+----------+-----+\n",
      "|label|prediction|count|\n",
      "+-----+----------+-----+\n",
      "|  2.0|       0.0| 5009|\n",
      "|  1.0|       1.0|  122|\n",
      "|  1.0|       0.0| 6803|\n",
      "|  2.0|       1.0|   18|\n",
      "|  0.0|       0.0|10458|\n",
      "+-----+----------+-----+\n",
      "\n"
     ]
    }
   ],
   "source": [
    "test_results_rfc.groupby('label', 'prediction').count().show()"
   ]
  },
  {
   "cell_type": "code",
   "execution_count": 85,
   "metadata": {},
   "outputs": [
    {
     "name": "stdout",
     "output_type": "stream",
     "text": [
      "Accuracy of Model at  presicting spam ham is: 0.9989290056369424\n"
     ]
    }
   ],
   "source": [
    "acc_eval = MulticlassClassificationEvaluator()\n",
    "acc = acc_eval.evaluate(test_results_rfc)\n",
    "print(\"Accuracy of Model at  presicting spam ham is: {}\".format(acc))"
   ]
  },
  {
   "cell_type": "markdown",
   "metadata": {},
   "source": [
    "### LogisticRegression"
   ]
  },
  {
   "cell_type": "code",
   "execution_count": 75,
   "metadata": {},
   "outputs": [],
   "source": [
    "lg = LogisticRegression(maxIter=20, regParam=0.3, elasticNetParam=0)"
   ]
  },
  {
   "cell_type": "code",
   "execution_count": 76,
   "metadata": {},
   "outputs": [],
   "source": [
    "predictor_lg = lg.fit(training)"
   ]
  },
  {
   "cell_type": "code",
   "execution_count": 77,
   "metadata": {},
   "outputs": [],
   "source": [
    "test_results_lg = predictor_lg.transform(testing)"
   ]
  },
  {
   "cell_type": "code",
   "execution_count": 78,
   "metadata": {},
   "outputs": [
    {
     "name": "stdout",
     "output_type": "stream",
     "text": [
      "+-----+----------+-----+\n",
      "|label|prediction|count|\n",
      "+-----+----------+-----+\n",
      "|  2.0|       0.0|   63|\n",
      "|  1.0|       1.0| 4627|\n",
      "|  0.0|       1.0|  205|\n",
      "|  1.0|       0.0| 2112|\n",
      "|  2.0|       2.0| 4159|\n",
      "|  2.0|       1.0|  805|\n",
      "|  1.0|       2.0|  186|\n",
      "|  0.0|       0.0|10250|\n",
      "|  0.0|       2.0|    3|\n",
      "+-----+----------+-----+\n",
      "\n"
     ]
    }
   ],
   "source": [
    "test_results_lg.groupBy('label', 'prediction').count().show()"
   ]
  },
  {
   "cell_type": "code",
   "execution_count": 79,
   "metadata": {},
   "outputs": [
    {
     "name": "stdout",
     "output_type": "stream",
     "text": [
      "Accuracy of model at predicting: 0.844736977121757\n"
     ]
    }
   ],
   "source": [
    "acc_eval = MulticlassClassificationEvaluator()\n",
    "acc_1 = acc_eval.evaluate(test_results_lg)\n",
    "print(\"Accuracy of model at predicting: {}\".format(acc_1))"
   ]
  },
  {
   "cell_type": "markdown",
   "metadata": {},
   "source": [
    "### GBT"
   ]
  },
  {
   "cell_type": "code",
   "execution_count": 80,
   "metadata": {},
   "outputs": [],
   "source": [
    "gbt= GBTClassifier(maxIter=10)"
   ]
  },
  {
   "cell_type": "code",
   "execution_count": 82,
   "metadata": {},
   "outputs": [],
   "source": [
    "# predictor_gbt = gbt.fit(training)"
   ]
  },
  {
   "cell_type": "code",
   "execution_count": null,
   "metadata": {},
   "outputs": [],
   "source": [
    "test_results_gbt = predictor_gbt.transform(testing)"
   ]
  },
  {
   "cell_type": "code",
   "execution_count": null,
   "metadata": {},
   "outputs": [],
   "source": [
    "test_results_gbt.groupby('label', 'prediction').count().show()"
   ]
  },
  {
   "cell_type": "code",
   "execution_count": null,
   "metadata": {},
   "outputs": [],
   "source": [
    "acc_eval = MulticlassClassificationEvaluator()\n",
    "acc = acc_eval.evaluate(test_results_gbt)\n",
    "print(\"Accuracy of Model at  presicting spam ham is: {}\".format(acc))"
   ]
  },
  {
   "cell_type": "markdown",
   "metadata": {},
   "source": [
    "### SVC"
   ]
  },
  {
   "cell_type": "code",
   "execution_count": null,
   "metadata": {},
   "outputs": [],
   "source": [
    "# lsvc = LinearSVC(maxIter=10, regParam=0.1)"
   ]
  },
  {
   "cell_type": "code",
   "execution_count": null,
   "metadata": {},
   "outputs": [],
   "source": [
    "# predictor_lsvc = lsvc.fit(training)"
   ]
  },
  {
   "cell_type": "code",
   "execution_count": null,
   "metadata": {},
   "outputs": [],
   "source": [
    "# test_results_lsvc = predictor_lsvc.transform(testing)"
   ]
  },
  {
   "cell_type": "code",
   "execution_count": null,
   "metadata": {},
   "outputs": [],
   "source": [
    "# test_results_lg.groupBy('label', 'prediction').count().show()"
   ]
  },
  {
   "cell_type": "markdown",
   "metadata": {},
   "source": [
    "### One and Rest"
   ]
  },
  {
   "cell_type": "code",
   "execution_count": null,
   "metadata": {},
   "outputs": [],
   "source": [
    "from pyspark.ml.classification import OneVsRest\n",
    "ovr = OneVsRest(classifier=GBTClassifier())"
   ]
  },
  {
   "cell_type": "code",
   "execution_count": null,
   "metadata": {},
   "outputs": [],
   "source": [
    "predictor_ovr = ovr.fit(training)"
   ]
  },
  {
   "cell_type": "code",
   "execution_count": null,
   "metadata": {},
   "outputs": [],
   "source": [
    "test_results_ovr = predictor_ovr.transform(testing)"
   ]
  },
  {
   "cell_type": "code",
   "execution_count": null,
   "metadata": {},
   "outputs": [],
   "source": [
    "test_results_ovr.count()"
   ]
  },
  {
   "cell_type": "code",
   "execution_count": null,
   "metadata": {},
   "outputs": [],
   "source": [
    "# test_results_ovr.groupBy('label', 'prediction').count().show()"
   ]
  },
  {
   "cell_type": "code",
   "execution_count": null,
   "metadata": {},
   "outputs": [],
   "source": [
    "acc_eval = MulticlassClassificationEvaluator()\n",
    "acc_1 = acc_eval.evaluate(test_results_ovr)\n",
    "print(\"Accuracy of model at predicting: {}\".format(acc_1))"
   ]
  },
  {
   "cell_type": "code",
   "execution_count": null,
   "metadata": {},
   "outputs": [],
   "source": []
  },
  {
   "cell_type": "code",
   "execution_count": 88,
   "metadata": {},
   "outputs": [],
   "source": [
    "sub_data_df=data[(data[\"category\"]==\"Điện Thoại & Phụ Kiện\")|(data[\"category\"]==\"Máy Tính & Laptop\")| (data[\"category\"]==\"Máy Ảnh & Máy Quay Phim\")][[\"comment\",\"rating\"]]"
   ]
  },
  {
   "cell_type": "code",
   "execution_count": 89,
   "metadata": {},
   "outputs": [
    {
     "data": {
      "text/html": [
       "<div>\n",
       "<style scoped>\n",
       "    .dataframe tbody tr th:only-of-type {\n",
       "        vertical-align: middle;\n",
       "    }\n",
       "\n",
       "    .dataframe tbody tr th {\n",
       "        vertical-align: top;\n",
       "    }\n",
       "\n",
       "    .dataframe thead th {\n",
       "        text-align: right;\n",
       "    }\n",
       "</style>\n",
       "<table border=\"1\" class=\"dataframe\">\n",
       "  <thead>\n",
       "    <tr style=\"text-align: right;\">\n",
       "      <th></th>\n",
       "      <th>comment</th>\n",
       "      <th>rating</th>\n",
       "    </tr>\n",
       "  </thead>\n",
       "  <tbody>\n",
       "    <tr>\n",
       "      <th>0</th>\n",
       "      <td>Miếng dán hơi dầy ko thẩm mỹ. Qan trong là ko ...</td>\n",
       "      <td>3</td>\n",
       "    </tr>\n",
       "    <tr>\n",
       "      <th>1</th>\n",
       "      <td>Mua nhiều miếng dán ở shop rồi, nhưng thật sự ...</td>\n",
       "      <td>3</td>\n",
       "    </tr>\n",
       "    <tr>\n",
       "      <th>2</th>\n",
       "      <td>NaN</td>\n",
       "      <td>3</td>\n",
       "    </tr>\n",
       "    <tr>\n",
       "      <th>3</th>\n",
       "      <td>NaN</td>\n",
       "      <td>3</td>\n",
       "    </tr>\n",
       "    <tr>\n",
       "      <th>4</th>\n",
       "      <td>Giao sai sp, đặt 1 cường lực trắng cho 8+ nhưn...</td>\n",
       "      <td>2</td>\n",
       "    </tr>\n",
       "  </tbody>\n",
       "</table>\n",
       "</div>"
      ],
      "text/plain": [
       "                                             comment  rating\n",
       "0  Miếng dán hơi dầy ko thẩm mỹ. Qan trong là ko ...       3\n",
       "1  Mua nhiều miếng dán ở shop rồi, nhưng thật sự ...       3\n",
       "2                                                NaN       3\n",
       "3                                                NaN       3\n",
       "4  Giao sai sp, đặt 1 cường lực trắng cho 8+ nhưn...       2"
      ]
     },
     "execution_count": 89,
     "metadata": {},
     "output_type": "execute_result"
    }
   ],
   "source": [
    "sub_data_df.head()"
   ]
  },
  {
   "cell_type": "code",
   "execution_count": 90,
   "metadata": {},
   "outputs": [],
   "source": [
    "sub_data_df=sub_data_df.dropna()"
   ]
  },
  {
   "cell_type": "code",
   "execution_count": 91,
   "metadata": {},
   "outputs": [
    {
     "data": {
      "text/html": [
       "<div>\n",
       "<style scoped>\n",
       "    .dataframe tbody tr th:only-of-type {\n",
       "        vertical-align: middle;\n",
       "    }\n",
       "\n",
       "    .dataframe tbody tr th {\n",
       "        vertical-align: top;\n",
       "    }\n",
       "\n",
       "    .dataframe thead th {\n",
       "        text-align: right;\n",
       "    }\n",
       "</style>\n",
       "<table border=\"1\" class=\"dataframe\">\n",
       "  <thead>\n",
       "    <tr style=\"text-align: right;\">\n",
       "      <th></th>\n",
       "      <th>comment</th>\n",
       "      <th>rating</th>\n",
       "    </tr>\n",
       "  </thead>\n",
       "  <tbody>\n",
       "    <tr>\n",
       "      <th>0</th>\n",
       "      <td>Miếng dán hơi dầy ko thẩm mỹ. Qan trong là ko ...</td>\n",
       "      <td>3</td>\n",
       "    </tr>\n",
       "    <tr>\n",
       "      <th>1</th>\n",
       "      <td>Mua nhiều miếng dán ở shop rồi, nhưng thật sự ...</td>\n",
       "      <td>3</td>\n",
       "    </tr>\n",
       "    <tr>\n",
       "      <th>4</th>\n",
       "      <td>Giao sai sp, đặt 1 cường lực trắng cho 8+ nhưn...</td>\n",
       "      <td>2</td>\n",
       "    </tr>\n",
       "    <tr>\n",
       "      <th>5</th>\n",
       "      <td>Đã nhận đc hàng, cảm quan ban đầu thì khá ok, ...</td>\n",
       "      <td>2</td>\n",
       "    </tr>\n",
       "    <tr>\n",
       "      <th>6</th>\n",
       "      <td>Chất lượng cái cường lực chống nhìn trộm không...</td>\n",
       "      <td>1</td>\n",
       "    </tr>\n",
       "  </tbody>\n",
       "</table>\n",
       "</div>"
      ],
      "text/plain": [
       "                                             comment  rating\n",
       "0  Miếng dán hơi dầy ko thẩm mỹ. Qan trong là ko ...       3\n",
       "1  Mua nhiều miếng dán ở shop rồi, nhưng thật sự ...       3\n",
       "4  Giao sai sp, đặt 1 cường lực trắng cho 8+ nhưn...       2\n",
       "5  Đã nhận đc hàng, cảm quan ban đầu thì khá ok, ...       2\n",
       "6  Chất lượng cái cường lực chống nhìn trộm không...       1"
      ]
     },
     "execution_count": 91,
     "metadata": {},
     "output_type": "execute_result"
    }
   ],
   "source": [
    "sub_data_df.head()"
   ]
  },
  {
   "cell_type": "code",
   "execution_count": 92,
   "metadata": {},
   "outputs": [
    {
     "ename": "SyntaxError",
     "evalue": "invalid syntax (1611359573.py, line 1)",
     "output_type": "error",
     "traceback": [
      "\u001b[1;36m  Cell \u001b[1;32mIn [92], line 1\u001b[1;36m\u001b[0m\n\u001b[1;33m    sub_data_df[\"class\"].map(lambda x: 1 if x>3 0 elif x<=2 else 2)\u001b[0m\n\u001b[1;37m                                                ^\u001b[0m\n\u001b[1;31mSyntaxError\u001b[0m\u001b[1;31m:\u001b[0m invalid syntax\n"
     ]
    }
   ],
   "source": [
    "sub_data_df[\"class\"].map(lambda x: 1 if x>3 0 elif x<=2 else 2)"
   ]
  },
  {
   "cell_type": "code",
   "execution_count": 97,
   "metadata": {},
   "outputs": [],
   "source": [
    "def func(x):\n",
    "    if x > 3:\n",
    "        return 1\n",
    "    elif x <= 2:\n",
    "        return 0\n",
    "    else:\n",
    "        return 2\n",
    "sub_data_df[\"class\"] = sub_data_df[\"rating\"].apply(func)"
   ]
  },
  {
   "cell_type": "code",
   "execution_count": 99,
   "metadata": {},
   "outputs": [
    {
     "data": {
      "text/html": [
       "<div>\n",
       "<style scoped>\n",
       "    .dataframe tbody tr th:only-of-type {\n",
       "        vertical-align: middle;\n",
       "    }\n",
       "\n",
       "    .dataframe tbody tr th {\n",
       "        vertical-align: top;\n",
       "    }\n",
       "\n",
       "    .dataframe thead th {\n",
       "        text-align: right;\n",
       "    }\n",
       "</style>\n",
       "<table border=\"1\" class=\"dataframe\">\n",
       "  <thead>\n",
       "    <tr style=\"text-align: right;\">\n",
       "      <th></th>\n",
       "      <th>comment</th>\n",
       "      <th>rating</th>\n",
       "      <th>class</th>\n",
       "    </tr>\n",
       "  </thead>\n",
       "  <tbody>\n",
       "    <tr>\n",
       "      <th>117460</th>\n",
       "      <td>App Mi Wifi ngu học không cập nhật bản mới.</td>\n",
       "      <td>3</td>\n",
       "      <td>2</td>\n",
       "    </tr>\n",
       "    <tr>\n",
       "      <th>117462</th>\n",
       "      <td>Dây cat6 mà như cat5</td>\n",
       "      <td>3</td>\n",
       "      <td>2</td>\n",
       "    </tr>\n",
       "    <tr>\n",
       "      <th>117465</th>\n",
       "      <td>đã huỷ đơn mà ép lấy</td>\n",
       "      <td>2</td>\n",
       "      <td>0</td>\n",
       "    </tr>\n",
       "    <tr>\n",
       "      <th>117466</th>\n",
       "      <td>shop làm ăn lươn lẹo !!!!!!!!!!!!!!!!!!!!</td>\n",
       "      <td>1</td>\n",
       "      <td>0</td>\n",
       "    </tr>\n",
       "    <tr>\n",
       "      <th>117467</th>\n",
       "      <td>Dây mạng chậm</td>\n",
       "      <td>1</td>\n",
       "      <td>0</td>\n",
       "    </tr>\n",
       "    <tr>\n",
       "      <th>117468</th>\n",
       "      <td>Chất lượng sản phẩm: Tốt\\nSản phẩm tốt giao hà...</td>\n",
       "      <td>4</td>\n",
       "      <td>1</td>\n",
       "    </tr>\n",
       "    <tr>\n",
       "      <th>117470</th>\n",
       "      <td>Hình ảnh chỉ mang tính chất nhận xu. Hàng rẻ n...</td>\n",
       "      <td>3</td>\n",
       "      <td>2</td>\n",
       "    </tr>\n",
       "    <tr>\n",
       "      <th>117471</th>\n",
       "      <td>Chán cái shop này kiểu mày mua kệ mẹ mày</td>\n",
       "      <td>2</td>\n",
       "      <td>0</td>\n",
       "    </tr>\n",
       "    <tr>\n",
       "      <th>117472</th>\n",
       "      <td>Ban đầu cho 5* vì tưởng ok, mua về để chờ thi ...</td>\n",
       "      <td>1</td>\n",
       "      <td>0</td>\n",
       "    </tr>\n",
       "    <tr>\n",
       "      <th>117473</th>\n",
       "      <td>, Shop phục vụ rất kém</td>\n",
       "      <td>1</td>\n",
       "      <td>0</td>\n",
       "    </tr>\n",
       "  </tbody>\n",
       "</table>\n",
       "</div>"
      ],
      "text/plain": [
       "                                                  comment  rating  class\n",
       "117460        App Mi Wifi ngu học không cập nhật bản mới.       3      2\n",
       "117462                               Dây cat6 mà như cat5       3      2\n",
       "117465                               đã huỷ đơn mà ép lấy       2      0\n",
       "117466        shop làm ăn lươn lẹo !!!!!!!!!!!!!!!!!!!!       1      0\n",
       "117467                                      Dây mạng chậm       1      0\n",
       "117468  Chất lượng sản phẩm: Tốt\\nSản phẩm tốt giao hà...       4      1\n",
       "117470  Hình ảnh chỉ mang tính chất nhận xu. Hàng rẻ n...       3      2\n",
       "117471           Chán cái shop này kiểu mày mua kệ mẹ mày       2      0\n",
       "117472  Ban đầu cho 5* vì tưởng ok, mua về để chờ thi ...       1      0\n",
       "117473                             , Shop phục vụ rất kém       1      0"
      ]
     },
     "execution_count": 99,
     "metadata": {},
     "output_type": "execute_result"
    }
   ],
   "source": [
    "sub_data_df.tail(10)"
   ]
  },
  {
   "cell_type": "code",
   "execution_count": 100,
   "metadata": {},
   "outputs": [],
   "source": [
    "X=sub_data_df[\"comment\"]\n",
    "y=sub_data_df[\"class\"]"
   ]
  },
  {
   "cell_type": "code",
   "execution_count": 103,
   "metadata": {},
   "outputs": [],
   "source": [
    "from sklearn.model_selection import train_test_split\n",
    "X_train, X_test, y_train, y_test= train_test_split(X,y, test_size=0.3, random_state=42)"
   ]
  },
  {
   "cell_type": "code",
   "execution_count": 105,
   "metadata": {},
   "outputs": [],
   "source": [
    "sub_data.write.format('com.databricks.spark.csv').save('data_pre.csv')"
   ]
  },
  {
   "cell_type": "code",
   "execution_count": 107,
   "metadata": {},
   "outputs": [],
   "source": [
    "sub_data.write.csv('data_pre.csv')"
   ]
  },
  {
   "cell_type": "code",
   "execution_count": 109,
   "metadata": {},
   "outputs": [],
   "source": [
    "sub_data.toPandas().to_csv('data_pre.csv')"
   ]
  },
  {
   "cell_type": "code",
   "execution_count": null,
   "metadata": {},
   "outputs": [],
   "source": []
  }
 ],
 "metadata": {
  "colab": {
   "provenance": []
  },
  "kernelspec": {
   "display_name": "Python 3 (ipykernel)",
   "language": "python",
   "name": "python3"
  },
  "language_info": {
   "codemirror_mode": {
    "name": "ipython",
    "version": 3
   },
   "file_extension": ".py",
   "mimetype": "text/x-python",
   "name": "python",
   "nbconvert_exporter": "python",
   "pygments_lexer": "ipython3",
   "version": "3.8.5"
  }
 },
 "nbformat": 4,
 "nbformat_minor": 1
}
