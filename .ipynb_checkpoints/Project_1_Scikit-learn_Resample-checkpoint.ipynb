{
 "cells": [
  {
   "cell_type": "code",
   "execution_count": 1,
   "metadata": {
    "id": "Zr4aoEgQMB2m",
    "outputId": "f57c6f76-5cd4-4540-871b-610dda69ebbb"
   },
   "outputs": [
    {
     "name": "stdout",
     "output_type": "stream",
     "text": [
      "C:\\Users\\khaih\\Downloads\\LDS0\\Data\n"
     ]
    }
   ],
   "source": [
    "%cd \"Data\""
   ]
  },
  {
   "cell_type": "code",
   "execution_count": 2,
   "metadata": {
    "id": "tlwqMKULMB2o",
    "outputId": "0c3201f9-6d4e-4c5f-d1af-3f2b1afe8313"
   },
   "outputs": [
    {
     "name": "stderr",
     "output_type": "stream",
     "text": [
      "[nltk_data] Downloading package punkt to\n",
      "[nltk_data]     C:\\Users\\thuyv\\AppData\\Roaming\\nltk_data...\n",
      "[nltk_data]   Package punkt is already up-to-date!\n",
      "[nltk_data] Downloading package stopwords to\n",
      "[nltk_data]     C:\\Users\\thuyv\\AppData\\Roaming\\nltk_data...\n",
      "[nltk_data]   Package stopwords is already up-to-date!\n",
      "[nltk_data] Downloading package wordnet to\n",
      "[nltk_data]     C:\\Users\\thuyv\\AppData\\Roaming\\nltk_data...\n",
      "[nltk_data]   Package wordnet is already up-to-date!\n",
      "[nltk_data] Downloading package averaged_perceptron_tagger to\n",
      "[nltk_data]     C:\\Users\\thuyv\\AppData\\Roaming\\nltk_data...\n",
      "[nltk_data]   Package averaged_perceptron_tagger is already up-to-\n",
      "[nltk_data]       date!\n",
      "[nltk_data] Downloading package omw-1.4 to\n",
      "[nltk_data]     C:\\Users\\thuyv\\AppData\\Roaming\\nltk_data...\n",
      "[nltk_data]   Package omw-1.4 is already up-to-date!\n"
     ]
    },
    {
     "data": {
      "text/plain": [
       "True"
      ]
     },
     "execution_count": 2,
     "metadata": {},
     "output_type": "execute_result"
    }
   ],
   "source": [
    "import nltk\n",
    "\n",
    "nltk.download('punkt')\n",
    "nltk.download('stopwords')\n",
    "nltk.download('wordnet')\n",
    "nltk.download('averaged_perceptron_tagger')\n",
    "nltk.download('omw-1.4')"
   ]
  },
  {
   "cell_type": "code",
   "execution_count": 3,
   "metadata": {
    "id": "YpbfKcxOMB2p"
   },
   "outputs": [],
   "source": [
    "import pandas as pd\n",
    "import numpy as np\n",
    "from underthesea import word_tokenize, pos_tag, sent_tokenize\n",
    "import regex\n",
    "import demoji\n",
    "from pyvi import ViPosTagger, ViTokenizer\n",
    "import string"
   ]
  },
  {
   "cell_type": "code",
   "execution_count": 16,
   "metadata": {
    "id": "3tMcWrytMB2p"
   },
   "outputs": [],
   "source": [
    "import pandas as pd\n",
    "from nltk.tokenize import word_tokenize\n",
    "from sklearn.pipeline import Pipeline\n",
    "from sklearn.feature_extraction.text import CountVectorizer, TfidfTransformer\n",
    "from sklearn.naive_bayes import MultinomialNB\n",
    "from sklearn.naive_bayes import BernoulliNB\n",
    "from sklearn.linear_model import LogisticRegression\n",
    "from sklearn.tree import ExtraTreeClassifier\n",
    "from sklearn.model_selection import train_test_split\n",
    "from sklearn.metrics import accuracy_score\n",
    "\n",
    "from sklearn.metrics import confusion_matrix, classification_report\n",
    "import numpy as np\n",
    "from sklearn.model_selection import train_test_split\n",
    "from sklearn.pipeline import Pipeline\n",
    "from sklearn.feature_extraction.text import TfidfVectorizer\n",
    "from sklearn.ensemble import GradientBoostingClassifier, RandomForestClassifier\n",
    "from sklearn.tree import DecisionTreeClassifier\n",
    "from sklearn.neighbors import KNeighborsClassifier\n",
    "from sklearn.neural_network import MLPClassifier\n",
    "from imblearn.over_sampling import SMOTE\n",
    "from imblearn.over_sampling import RandomOverSampler"
   ]
  },
  {
   "cell_type": "code",
   "execution_count": 5,
   "metadata": {
    "id": "I7usSZy8MB2p"
   },
   "outputs": [],
   "source": [
    "import pandas as pd\n",
    "data = pd.read_csv(\"pre_data.csv\", delimiter=',',index_col=0)"
   ]
  },
  {
   "cell_type": "code",
   "execution_count": 6,
   "metadata": {
    "id": "T72RfGcSMB2q",
    "outputId": "3c8c366d-9088-45d2-be31-db8ec0aa7c86"
   },
   "outputs": [
    {
     "data": {
      "text/html": [
       "<div>\n",
       "<style scoped>\n",
       "    .dataframe tbody tr th:only-of-type {\n",
       "        vertical-align: middle;\n",
       "    }\n",
       "\n",
       "    .dataframe tbody tr th {\n",
       "        vertical-align: top;\n",
       "    }\n",
       "\n",
       "    .dataframe thead th {\n",
       "        text-align: right;\n",
       "    }\n",
       "</style>\n",
       "<table border=\"1\" class=\"dataframe\">\n",
       "  <thead>\n",
       "    <tr style=\"text-align: right;\">\n",
       "      <th></th>\n",
       "      <th>class</th>\n",
       "      <th>pre_comment</th>\n",
       "    </tr>\n",
       "  </thead>\n",
       "  <tbody>\n",
       "    <tr>\n",
       "      <th>259179</th>\n",
       "      <td>Like</td>\n",
       "      <td>kiểm không</td>\n",
       "    </tr>\n",
       "    <tr>\n",
       "      <th>259180</th>\n",
       "      <td>Like</td>\n",
       "      <td>cho_phép sơ_suất hát hoạt_động rõ_ràng saisĩ</td>\n",
       "    </tr>\n",
       "    <tr>\n",
       "      <th>259181</th>\n",
       "      <td>Like</td>\n",
       "      <td>vừa_vặn không nâu dày đỏ trắng đỏ cổ náu đẹp n...</td>\n",
       "    </tr>\n",
       "    <tr>\n",
       "      <th>259182</th>\n",
       "      <td>Like</td>\n",
       "      <td>đầu_shop hợp</td>\n",
       "    </tr>\n",
       "    <tr>\n",
       "      <th>259183</th>\n",
       "      <td>Like</td>\n",
       "      <td>đẹp đẹp hàng thích</td>\n",
       "    </tr>\n",
       "    <tr>\n",
       "      <th>259184</th>\n",
       "      <td>Like</td>\n",
       "      <td>đẹp dày_dặn</td>\n",
       "    </tr>\n",
       "    <tr>\n",
       "      <th>259185</th>\n",
       "      <td>Like</td>\n",
       "      <td>sáu_mươi_lăm luônn</td>\n",
       "    </tr>\n",
       "    <tr>\n",
       "      <th>259186</th>\n",
       "      <td>Like</td>\n",
       "      <td>không không không quên học</td>\n",
       "    </tr>\n",
       "    <tr>\n",
       "      <th>259187</th>\n",
       "      <td>Like</td>\n",
       "      <td>không chê hợp</td>\n",
       "    </tr>\n",
       "    <tr>\n",
       "      <th>259188</th>\n",
       "      <td>Like</td>\n",
       "      <td>gọn_gàng đẹp ôm kâng họa</td>\n",
       "    </tr>\n",
       "  </tbody>\n",
       "</table>\n",
       "</div>"
      ],
      "text/plain": [
       "       class                                        pre_comment\n",
       "259179  Like                                         kiểm không\n",
       "259180  Like       cho_phép sơ_suất hát hoạt_động rõ_ràng saisĩ\n",
       "259181  Like  vừa_vặn không nâu dày đỏ trắng đỏ cổ náu đẹp n...\n",
       "259182  Like                                       đầu_shop hợp\n",
       "259183  Like                                 đẹp đẹp hàng thích\n",
       "259184  Like                                        đẹp dày_dặn\n",
       "259185  Like                                 sáu_mươi_lăm luônn\n",
       "259186  Like                         không không không quên học\n",
       "259187  Like                                      không chê hợp\n",
       "259188  Like                           gọn_gàng đẹp ôm kâng họa"
      ]
     },
     "execution_count": 6,
     "metadata": {},
     "output_type": "execute_result"
    }
   ],
   "source": [
    "data.head(10)"
   ]
  },
  {
   "cell_type": "code",
   "execution_count": 7,
   "metadata": {
    "id": "MKhlw3mQMB2q",
    "outputId": "60c5d14a-ae42-4add-98c9-c96cc11aa93f"
   },
   "outputs": [
    {
     "data": {
      "text/plain": [
       "class          0\n",
       "pre_comment    0\n",
       "dtype: int64"
      ]
     },
     "execution_count": 7,
     "metadata": {},
     "output_type": "execute_result"
    }
   ],
   "source": [
    "data.isna().sum()"
   ]
  },
  {
   "cell_type": "code",
   "execution_count": 8,
   "metadata": {
    "id": "n2PPj7rGMB2q",
    "outputId": "067da707-daf2-48da-fae7-079f4b7175fc"
   },
   "outputs": [
    {
     "data": {
      "text/plain": [
       "class          509691\n",
       "pre_comment    509691\n",
       "dtype: int64"
      ]
     },
     "execution_count": 8,
     "metadata": {},
     "output_type": "execute_result"
    }
   ],
   "source": [
    "data.count()"
   ]
  },
  {
   "cell_type": "code",
   "execution_count": 29,
   "metadata": {
    "id": "_YZ6GGSDMB2q"
   },
   "outputs": [],
   "source": [
    "X=data[\"pre_comment\"]\n",
    "y=data[\"class\"]"
   ]
  },
  {
   "cell_type": "code",
   "execution_count": 30,
   "metadata": {
    "id": "R4NvCa-mMB2q"
   },
   "outputs": [],
   "source": [
    "from sklearn.model_selection import train_test_split\n",
    "\n",
    "X_train, X_test, y_train, y_test = train_test_split(X,y, test_size=0.2,random_state=42)"
   ]
  },
  {
   "cell_type": "code",
   "execution_count": 31,
   "metadata": {
    "id": "yGCVqeI3MB2r"
   },
   "outputs": [],
   "source": [
    "ros = RandomOverSampler()\n",
    "X_train_resampled, y_train_resampled = ros.fit_resample(np.array(X_train).reshape(-1, 1), np.array(y_train).reshape(-1, 1));\n",
    "train_df_reampled = pd.DataFrame(list(zip([x[0] for x in X_train_resampled], y_train_resampled)), columns = ['pre_comment', 'class']);"
   ]
  },
  {
   "cell_type": "code",
   "execution_count": 32,
   "metadata": {
    "id": "cIuLAhxYMB2r",
    "outputId": "fe36ca79-4398-4720-ef6e-bfe282d4ecb1"
   },
   "outputs": [
    {
     "data": {
      "text/plain": [
       "Like        347524\n",
       "Not_Like    347524\n",
       "Neutral     347524\n",
       "Name: class, dtype: int64"
      ]
     },
     "execution_count": 32,
     "metadata": {},
     "output_type": "execute_result"
    }
   ],
   "source": [
    "train_df_reampled[\"class\"].value_counts()"
   ]
  },
  {
   "cell_type": "code",
   "execution_count": 38,
   "metadata": {
    "id": "OXZN3sssMB2r"
   },
   "outputs": [],
   "source": [
    "# X_train_resampled, X_test, y_train_resampled, y_test = train_test_split(train_df_reampled[\"pre_comment\"],train_df_reampled[\"class\"], test_size=0.2,random_state=42)"
   ]
  },
  {
   "cell_type": "code",
   "execution_count": 34,
   "metadata": {
    "id": "uqhNNDDDMB2r"
   },
   "outputs": [],
   "source": [
    "X_train_resampled=train_df_reampled[\"pre_comment\"]\n",
    "y_train_resampled=train_df_reampled[\"class\"]"
   ]
  },
  {
   "cell_type": "code",
   "execution_count": null,
   "metadata": {
    "id": "o6Loz_xIMB2s"
   },
   "outputs": [],
   "source": [
    "# from sklearn.feature_extraction.text import CountVectorizer\n",
    "\n",
    "# vectorizer = CountVectorizer()\n",
    "# vectorizer.fit(X_train.values)\n",
    "# X_train=vectorizer.transform(X_train.values)\n",
    "# X_test=vectorizer.transform(X_test.values)\n",
    "# X_train=X_train.toarray()\n",
    "# X_test=X_test.toarray()\n",
    "\n",
    "# x_train = pd.DataFrame(X_train)\n",
    "# X_train_resampled, y_train_resampled = SMOTE().fit_resample(X_train, y_train)"
   ]
  },
  {
   "cell_type": "code",
   "execution_count": null,
   "metadata": {
    "id": "3K1leY7TMB2s"
   },
   "outputs": [],
   "source": [
    "# smote = SMOTE(random_state=42)\n",
    "# X_train_resampled, y_train_resampled = smote.fit_resample(X_train, y_train)"
   ]
  },
  {
   "cell_type": "code",
   "execution_count": 24,
   "metadata": {
    "id": "vTm5gwXlMB2s"
   },
   "outputs": [],
   "source": [
    "def my_tokenizer(text):\n",
    "    return word_tokenize(text)"
   ]
  },
  {
   "cell_type": "markdown",
   "metadata": {
    "id": "ByBEmrxyMB2s"
   },
   "source": [
    "### BernoulliNB"
   ]
  },
  {
   "cell_type": "code",
   "execution_count": 41,
   "metadata": {
    "id": "XMtTrco0MB2u",
    "outputId": "714ca70c-9121-4c55-9036-0b57015ecc3a"
   },
   "outputs": [
    {
     "name": "stdout",
     "output_type": "stream",
     "text": [
      "Accuracy:  0.7672541543773829\n",
      "------------------------------------------------------------\n",
      "[[57090  9470  3104]\n",
      " [ 6957 48644 13675]\n",
      " [ 2716 12609 54250]]\n",
      "------------------------------------------------------------\n",
      "              precision    recall  f1-score   support\n",
      "\n",
      "        Like       0.86      0.82      0.84     69664\n",
      "     Neutral       0.69      0.70      0.69     69276\n",
      "    Not_Like       0.76      0.78      0.77     69575\n",
      "\n",
      "    accuracy                           0.77    208515\n",
      "   macro avg       0.77      0.77      0.77    208515\n",
      "weighted avg       0.77      0.77      0.77    208515\n",
      "\n"
     ]
    }
   ],
   "source": [
    "pipeline_bnl = Pipeline([\n",
    "    ('vectorizer', CountVectorizer()),\n",
    "    ('tfidf', TfidfTransformer()),\n",
    "    ('model', BernoulliNB())\n",
    "])\n",
    "\n",
    "pipeline_bnl.fit(X_train_resampled, y_train_resampled)\n",
    "\n",
    "y_pred_bnl = pipeline_bnl.predict(X_test)\n",
    "\n",
    "accuracy_bnl = accuracy_score(y_test, y_pred_bnl)\n",
    "print(\"Accuracy: \", accuracy_bnl)\n",
    "print(\"-\"*60)\n",
    "print(confusion_matrix(y_test, y_pred_bnl))\n",
    "print(\"-\"*60)\n",
    "print(classification_report(y_test, y_pred_bnl))"
   ]
  },
  {
   "cell_type": "markdown",
   "metadata": {
    "id": "ePmBQsIgMB2u"
   },
   "source": [
    "### LogisticRegression"
   ]
  },
  {
   "cell_type": "code",
   "execution_count": 42,
   "metadata": {
    "id": "t9Bd_2BEMB2v",
    "outputId": "70a9af93-c5fa-46d8-8968-f526d18bfde9"
   },
   "outputs": [
    {
     "name": "stderr",
     "output_type": "stream",
     "text": [
      "C:\\Users\\thuyv\\AppData\\Local\\Programs\\Python\\Python310\\lib\\site-packages\\sklearn\\linear_model\\_logistic.py:458: ConvergenceWarning: lbfgs failed to converge (status=1):\n",
      "STOP: TOTAL NO. of ITERATIONS REACHED LIMIT.\n",
      "\n",
      "Increase the number of iterations (max_iter) or scale the data as shown in:\n",
      "    https://scikit-learn.org/stable/modules/preprocessing.html\n",
      "Please also refer to the documentation for alternative solver options:\n",
      "    https://scikit-learn.org/stable/modules/linear_model.html#logistic-regression\n",
      "  n_iter_i = _check_optimize_result(\n"
     ]
    },
    {
     "name": "stdout",
     "output_type": "stream",
     "text": [
      "Accuracy: 0.7789319713210081\n",
      "------------------------------------------------------------\n",
      "[[59213  7637  2814]\n",
      " [ 7056 48771 13449]\n",
      " [ 3098 12042 54435]]\n",
      "------------------------------------------------------------\n",
      "              precision    recall  f1-score   support\n",
      "\n",
      "        Like       0.85      0.85      0.85     69664\n",
      "     Neutral       0.71      0.70      0.71     69276\n",
      "    Not_Like       0.77      0.78      0.78     69575\n",
      "\n",
      "    accuracy                           0.78    208515\n",
      "   macro avg       0.78      0.78      0.78    208515\n",
      "weighted avg       0.78      0.78      0.78    208515\n",
      "\n"
     ]
    }
   ],
   "source": [
    "pipeline_lr = Pipeline([\n",
    "    ('vectorizer', CountVectorizer()),\n",
    "    ('tfidf', TfidfTransformer()),\n",
    "    ('model', LogisticRegression())\n",
    "])\n",
    "\n",
    "pipeline_lr.fit(X_train_resampled, y_train_resampled)\n",
    "\n",
    "y_pred_lr = pipeline_lr.predict(X_test)\n",
    "\n",
    "accuracy_lr = accuracy_score(y_test, y_pred_lr)\n",
    "print(\"Accuracy:\", accuracy_lr)\n",
    "print(\"-\"*60)\n",
    "print(confusion_matrix(y_test, y_pred_lr))\n",
    "print(\"-\"*60)\n",
    "print(classification_report(y_test, y_pred_lr))"
   ]
  },
  {
   "cell_type": "markdown",
   "metadata": {
    "id": "HxQEdHTgMB2v"
   },
   "source": [
    "### DecisionTree"
   ]
  },
  {
   "cell_type": "code",
   "execution_count": 47,
   "metadata": {
    "id": "6PWIeIJ9MB2v",
    "outputId": "a8be7bbb-063a-424e-b3ab-be3cd92465f0"
   },
   "outputs": [
    {
     "name": "stdout",
     "output_type": "stream",
     "text": [
      "Accuracy: 0.896146560199506\n",
      "------------------------------------------------------------\n",
      "[[60432  4777  4455]\n",
      " [ 1934 61929  5413]\n",
      " [  698  4378 64499]]\n",
      "------------------------------------------------------------\n",
      "              precision    recall  f1-score   support\n",
      "\n",
      "        Like       0.96      0.87      0.91     69664\n",
      "     Neutral       0.87      0.89      0.88     69276\n",
      "    Not_Like       0.87      0.93      0.90     69575\n",
      "\n",
      "    accuracy                           0.90    208515\n",
      "   macro avg       0.90      0.90      0.90    208515\n",
      "weighted avg       0.90      0.90      0.90    208515\n",
      "\n"
     ]
    }
   ],
   "source": [
    "pipeline_dct = Pipeline([\n",
    "    ('vectorizer', CountVectorizer()),\n",
    "    ('tfidf', TfidfTransformer()),\n",
    "    ('model', DecisionTreeClassifier())\n",
    "])\n",
    "\n",
    "pipeline_dct.fit(X_train_resampled, y_train_resampled)\n",
    "\n",
    "y_pred_dct = pipeline_dct.predict(X_test)\n",
    "\n",
    "accuracy_dct = accuracy_score(y_test, y_pred_dct)\n",
    "print(\"Accuracy:\", accuracy_dct)\n",
    "print(\"-\"*60)\n",
    "print(confusion_matrix(y_test, y_pred_dct))\n",
    "print(\"-\"*60)\n",
    "print(classification_report(y_test, y_pred_dct))"
   ]
  },
  {
   "cell_type": "markdown",
   "metadata": {},
   "source": [
    "### ExtraTreeClassifier"
   ]
  },
  {
   "cell_type": "code",
   "execution_count": 48,
   "metadata": {},
   "outputs": [
    {
     "name": "stdout",
     "output_type": "stream",
     "text": [
      "Accuracy:  0.900419634079083\n",
      "------------------------------------------------------------\n",
      "[[61326  3960  4378]\n",
      " [ 1934 61929  5413]\n",
      " [  706  4373 64496]]\n",
      "------------------------------------------------------------\n",
      "              precision    recall  f1-score   support\n",
      "\n",
      "        Like       0.96      0.88      0.92     69664\n",
      "     Neutral       0.88      0.89      0.89     69276\n",
      "    Not_Like       0.87      0.93      0.90     69575\n",
      "\n",
      "    accuracy                           0.90    208515\n",
      "   macro avg       0.90      0.90      0.90    208515\n",
      "weighted avg       0.90      0.90      0.90    208515\n",
      "\n"
     ]
    }
   ],
   "source": [
    "pipeline_etc = Pipeline([\n",
    "    ('vectorizer', CountVectorizer()),\n",
    "    ('tfidf', TfidfTransformer()),\n",
    "    ('model', ExtraTreeClassifier())\n",
    "])\n",
    "\n",
    "pipeline_etc.fit(X_train_resampled, y_train_resampled)\n",
    "\n",
    "y_pred_etc = pipeline_etc.predict(X_test)\n",
    "\n",
    "accuracy_etc = accuracy_score(y_test, y_pred_etc)\n",
    "print(\"Accuracy: \", accuracy_etc)\n",
    "print(\"-\"*60)\n",
    "print(confusion_matrix(y_test, y_pred_etc))\n",
    "print(\"-\"*60)\n",
    "print(classification_report(y_test, y_pred_etc))"
   ]
  },
  {
   "cell_type": "markdown",
   "metadata": {
    "id": "P4zyH4X4MB2x"
   },
   "source": [
    "### Nhận xét:\n",
    "- Sau khi resample data nhận thấy rằng accuracy giảm đi, nhưng recall và f1-score tăng đáng kể, cho thấy tính hiệu quả được cải thiện.\n",
    "\n",
    "=> Có thể chấp nhận các model đã chạy qua cách cải thiện resample data. \n",
    "\n",
    "=> Model DecisionTree và ExtraTreeClassifier cho ra kết quả tốt nhất và có thể áp dụng nó để predict (Accuracy lần lượt là: 89,6% và 90%), đồng thời các điểm recall, f1-score đều khá cao dao động từ (88%-93%) "
   ]
  },
  {
   "cell_type": "code",
   "execution_count": null,
   "metadata": {
    "id": "zYX84VKcMB2x"
   },
   "outputs": [],
   "source": []
  }
 ],
 "metadata": {
  "colab": {
   "provenance": []
  },
  "kernelspec": {
   "display_name": "Python 3 (ipykernel)",
   "language": "python",
   "name": "python3"
  },
  "language_info": {
   "codemirror_mode": {
    "name": "ipython",
    "version": 3
   },
   "file_extension": ".py",
   "mimetype": "text/x-python",
   "name": "python",
   "nbconvert_exporter": "python",
   "pygments_lexer": "ipython3",
   "version": "3.9.13"
  }
 },
 "nbformat": 4,
 "nbformat_minor": 1
}
