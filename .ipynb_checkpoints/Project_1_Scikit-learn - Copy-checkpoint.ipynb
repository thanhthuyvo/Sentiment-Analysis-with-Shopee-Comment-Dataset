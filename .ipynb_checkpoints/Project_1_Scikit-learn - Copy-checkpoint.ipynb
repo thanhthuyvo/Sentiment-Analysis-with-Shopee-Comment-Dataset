{
 "cells": [
  {
   "cell_type": "code",
   "execution_count": 1,
   "metadata": {
    "id": "pB9QFDTQLgKR"
   },
   "outputs": [
    {
     "name": "stdout",
     "output_type": "stream",
     "text": [
      "C:\\Users\\khaih\\Downloads\\LDS0\\Data\n"
     ]
    }
   ],
   "source": [
    "%cd \"Data\""
   ]
  },
  {
   "cell_type": "code",
   "execution_count": 2,
   "metadata": {
    "id": "Q9i8FYWgLgKT",
    "outputId": "043c7bc9-278d-407a-da7c-857fed55b6a1"
   },
   "outputs": [
    {
     "name": "stderr",
     "output_type": "stream",
     "text": [
      "[nltk_data] Downloading package punkt to\n",
      "[nltk_data]     C:\\Users\\khaih\\AppData\\Roaming\\nltk_data...\n",
      "[nltk_data]   Package punkt is already up-to-date!\n",
      "[nltk_data] Downloading package stopwords to\n",
      "[nltk_data]     C:\\Users\\khaih\\AppData\\Roaming\\nltk_data...\n",
      "[nltk_data]   Package stopwords is already up-to-date!\n",
      "[nltk_data] Downloading package wordnet to\n",
      "[nltk_data]     C:\\Users\\khaih\\AppData\\Roaming\\nltk_data...\n",
      "[nltk_data]   Package wordnet is already up-to-date!\n",
      "[nltk_data] Downloading package averaged_perceptron_tagger to\n",
      "[nltk_data]     C:\\Users\\khaih\\AppData\\Roaming\\nltk_data...\n",
      "[nltk_data]   Package averaged_perceptron_tagger is already up-to-\n",
      "[nltk_data]       date!\n",
      "[nltk_data] Downloading package omw-1.4 to\n",
      "[nltk_data]     C:\\Users\\khaih\\AppData\\Roaming\\nltk_data...\n",
      "[nltk_data]   Package omw-1.4 is already up-to-date!\n"
     ]
    },
    {
     "data": {
      "text/plain": [
       "True"
      ]
     },
     "execution_count": 2,
     "metadata": {},
     "output_type": "execute_result"
    }
   ],
   "source": [
    "import nltk\n",
    "\n",
    "nltk.download('punkt')\n",
    "nltk.download('stopwords')\n",
    "nltk.download('wordnet')\n",
    "nltk.download('averaged_perceptron_tagger')\n",
    "nltk.download('omw-1.4')"
   ]
  },
  {
   "cell_type": "code",
   "execution_count": 3,
   "metadata": {
    "id": "YuJxMSPTLgKU"
   },
   "outputs": [],
   "source": [
    "import pandas as pd\n",
    "import numpy as np\n",
    "from underthesea import word_tokenize, pos_tag, sent_tokenize\n",
    "import regex\n",
    "import demoji\n",
    "from pyvi import ViPosTagger, ViTokenizer\n",
    "import string"
   ]
  },
  {
   "cell_type": "code",
   "execution_count": 4,
   "metadata": {
    "id": "jcgSHMolLgKV"
   },
   "outputs": [],
   "source": [
    "import pandas as pd\n",
    "from nltk.tokenize import word_tokenize\n",
    "from sklearn.pipeline import Pipeline\n",
    "from sklearn.feature_extraction.text import CountVectorizer, TfidfTransformer\n",
    "from sklearn.naive_bayes import MultinomialNB\n",
    "from sklearn.model_selection import train_test_split\n",
    "from sklearn.metrics import accuracy_score\n",
    "\n",
    "from sklearn.metrics import confusion_matrix, classification_report\n",
    "import numpy as np\n",
    "from sklearn.model_selection import train_test_split\n",
    "from sklearn.pipeline import Pipeline\n",
    "from sklearn.feature_extraction.text import TfidfVectorizer\n",
    "from sklearn.ensemble import GradientBoostingClassifier, RandomForestClassifier\n",
    "from sklearn.tree import DecisionTreeClassifier\n",
    "from sklearn.neighbors import KNeighborsClassifier\n",
    "from sklearn.neural_network import MLPClassifier\n",
    "from imblearn.over_sampling import SMOTE"
   ]
  },
  {
   "cell_type": "code",
   "execution_count": 5,
   "metadata": {
    "id": "LpOsAx-XLgKV"
   },
   "outputs": [],
   "source": [
    "import pandas as pd\n",
    "data = pd.read_csv(\"pre_data.csv\", delimiter=',',index_col=0)"
   ]
  },
  {
   "cell_type": "code",
   "execution_count": 6,
   "metadata": {
    "id": "c7tu5kXCLgKV",
    "outputId": "8508ed00-20ac-42c7-d72d-ec41807174b3"
   },
   "outputs": [
    {
     "data": {
      "text/html": [
       "<div>\n",
       "<style scoped>\n",
       "    .dataframe tbody tr th:only-of-type {\n",
       "        vertical-align: middle;\n",
       "    }\n",
       "\n",
       "    .dataframe tbody tr th {\n",
       "        vertical-align: top;\n",
       "    }\n",
       "\n",
       "    .dataframe thead th {\n",
       "        text-align: right;\n",
       "    }\n",
       "</style>\n",
       "<table border=\"1\" class=\"dataframe\">\n",
       "  <thead>\n",
       "    <tr style=\"text-align: right;\">\n",
       "      <th></th>\n",
       "      <th>rating</th>\n",
       "      <th>class</th>\n",
       "      <th>pre_comment</th>\n",
       "    </tr>\n",
       "  </thead>\n",
       "  <tbody>\n",
       "    <tr>\n",
       "      <th>259179</th>\n",
       "      <td>5</td>\n",
       "      <td>Like</td>\n",
       "      <td>kiểm</td>\n",
       "    </tr>\n",
       "    <tr>\n",
       "      <th>259180</th>\n",
       "      <td>5</td>\n",
       "      <td>Like</td>\n",
       "      <td>cho_phép sơ_suất hát hoạt_động rõ_ràng saisĩ</td>\n",
       "    </tr>\n",
       "    <tr>\n",
       "      <th>259181</th>\n",
       "      <td>5</td>\n",
       "      <td>Like</td>\n",
       "      <td>khá vừa_vặn không_có nâu dày đỏ trắng đỏ cổ ná...</td>\n",
       "    </tr>\n",
       "    <tr>\n",
       "      <th>259182</th>\n",
       "      <td>5</td>\n",
       "      <td>Like</td>\n",
       "      <td>đầu_shop khá hợp</td>\n",
       "    </tr>\n",
       "    <tr>\n",
       "      <th>259183</th>\n",
       "      <td>5</td>\n",
       "      <td>Like</td>\n",
       "      <td>đẹp đẹp hàng thích</td>\n",
       "    </tr>\n",
       "    <tr>\n",
       "      <th>259184</th>\n",
       "      <td>5</td>\n",
       "      <td>Like</td>\n",
       "      <td>đẹp dày_dặn</td>\n",
       "    </tr>\n",
       "    <tr>\n",
       "      <th>259185</th>\n",
       "      <td>5</td>\n",
       "      <td>Like</td>\n",
       "      <td>sáu_mươi_lăm luônn</td>\n",
       "    </tr>\n",
       "    <tr>\n",
       "      <th>259186</th>\n",
       "      <td>5</td>\n",
       "      <td>Like</td>\n",
       "      <td>quên học</td>\n",
       "    </tr>\n",
       "    <tr>\n",
       "      <th>259187</th>\n",
       "      <td>5</td>\n",
       "      <td>Like</td>\n",
       "      <td>chê hợp</td>\n",
       "    </tr>\n",
       "    <tr>\n",
       "      <th>259188</th>\n",
       "      <td>5</td>\n",
       "      <td>Like</td>\n",
       "      <td>gọn_gàng đẹp ôm kâng họa</td>\n",
       "    </tr>\n",
       "  </tbody>\n",
       "</table>\n",
       "</div>"
      ],
      "text/plain": [
       "        rating class                                        pre_comment\n",
       "259179       5  Like                                               kiểm\n",
       "259180       5  Like       cho_phép sơ_suất hát hoạt_động rõ_ràng saisĩ\n",
       "259181       5  Like  khá vừa_vặn không_có nâu dày đỏ trắng đỏ cổ ná...\n",
       "259182       5  Like                                   đầu_shop khá hợp\n",
       "259183       5  Like                                 đẹp đẹp hàng thích\n",
       "259184       5  Like                                        đẹp dày_dặn\n",
       "259185       5  Like                                 sáu_mươi_lăm luônn\n",
       "259186       5  Like                                           quên học\n",
       "259187       5  Like                                            chê hợp\n",
       "259188       5  Like                           gọn_gàng đẹp ôm kâng họa"
      ]
     },
     "execution_count": 6,
     "metadata": {},
     "output_type": "execute_result"
    }
   ],
   "source": [
    "data.head(10)"
   ]
  },
  {
   "cell_type": "code",
   "execution_count": 7,
   "metadata": {
    "id": "Ty9Yqj7TLgKW",
    "outputId": "d3615ad5-4125-4a8e-8423-2aa3f1db07f3"
   },
   "outputs": [
    {
     "data": {
      "text/plain": [
       "rating         0\n",
       "class          0\n",
       "pre_comment    0\n",
       "dtype: int64"
      ]
     },
     "execution_count": 7,
     "metadata": {},
     "output_type": "execute_result"
    }
   ],
   "source": [
    "data.isna().sum()"
   ]
  },
  {
   "cell_type": "code",
   "execution_count": 8,
   "metadata": {
    "id": "vEz_iYjuLgKW",
    "outputId": "14cae898-34ac-4bc3-ba29-f0f4b6d67454"
   },
   "outputs": [
    {
     "data": {
      "text/plain": [
       "rating         508618\n",
       "class          508618\n",
       "pre_comment    508618\n",
       "dtype: int64"
      ]
     },
     "execution_count": 8,
     "metadata": {},
     "output_type": "execute_result"
    }
   ],
   "source": [
    "data.count()"
   ]
  },
  {
   "cell_type": "code",
   "execution_count": 9,
   "metadata": {
    "id": "eW42Hkb_LgKW"
   },
   "outputs": [],
   "source": [
    "# data.groupby(\"class\").sum()"
   ]
  },
  {
   "cell_type": "code",
   "execution_count": 10,
   "metadata": {
    "id": "8k0DqhnHLgKX"
   },
   "outputs": [],
   "source": [
    "# from sklearn.feature_extraction.text import CountVectorizer\n",
    "\n",
    "# vectorizer = CountVectorizer()\n",
    "# vectorizer.fit(X_train.values)\n",
    "# X_train=vectorizer.transform(X_train.values)\n",
    "# X_test=vectorizer.transform(X_test.values)\n",
    "# X_train=X_train.toarray()\n",
    "# X_test=X_test.toarray()\n",
    "\n",
    "# x_train = pd.DataFrame(X_train)\n",
    "# X_train_resampled, y_train_resampled = SMOTE().fit_resample(X_train, y_train)"
   ]
  },
  {
   "cell_type": "code",
   "execution_count": 11,
   "metadata": {
    "id": "LPTGHclALgKX"
   },
   "outputs": [],
   "source": [
    "# smote = SMOTE(random_state=42)\n",
    "# X_train_resampled, y_train_resampled = smote.fit_resample(X_train, y_train)"
   ]
  },
  {
   "cell_type": "code",
   "execution_count": 12,
   "metadata": {
    "id": "uEVFxaflLgKY"
   },
   "outputs": [],
   "source": [
    "def my_tokenizer(text):\n",
    "    return word_tokenize(text)"
   ]
  },
  {
   "cell_type": "code",
   "execution_count": 13,
   "metadata": {},
   "outputs": [],
   "source": [
    "import numpy as np\n",
    "import pandas as pd\n",
    "from sklearn.model_selection import train_test_split\n",
    "from sklearn.feature_extraction.text import CountVectorizer\n",
    "from lazypredict.Supervised import LazyClassifier"
   ]
  },
  {
   "cell_type": "code",
   "execution_count": 14,
   "metadata": {
    "id": "dwdtz6xGLgKX"
   },
   "outputs": [],
   "source": [
    "text_data=data[\"pre_comment\"]\n",
    "target=data[\"class\"]"
   ]
  },
  {
   "cell_type": "code",
   "execution_count": 15,
   "metadata": {},
   "outputs": [],
   "source": [
    "target = target.replace(\"Like\", 0)\n",
    "target = target.replace(\"Not_Like\", 1)\n",
    "target = target.replace(\"Neutral\", 2)"
   ]
  },
  {
   "cell_type": "code",
   "execution_count": 16,
   "metadata": {},
   "outputs": [
    {
     "data": {
      "text/plain": [
       "<508618x1000 sparse matrix of type '<class 'numpy.int64'>'\n",
       "\twith 1416949 stored elements in Compressed Sparse Row format>"
      ]
     },
     "execution_count": 16,
     "metadata": {},
     "output_type": "execute_result"
    }
   ],
   "source": [
    "count = CountVectorizer(max_features=1000)\n",
    "count.fit(text_data)\n",
    "bag_of_words = count.transform(text_data)\n",
    "bag_of_words"
   ]
  },
  {
   "cell_type": "code",
   "execution_count": 17,
   "metadata": {},
   "outputs": [
    {
     "data": {
      "text/plain": [
       "array([[0, 0, 0, ..., 0, 0, 0],\n",
       "       [0, 0, 0, ..., 0, 0, 0],\n",
       "       [0, 0, 0, ..., 0, 0, 0],\n",
       "       ...,\n",
       "       [0, 0, 0, ..., 0, 0, 0],\n",
       "       [0, 0, 0, ..., 0, 0, 0],\n",
       "       [0, 0, 0, ..., 0, 0, 0]], dtype=int64)"
      ]
     },
     "execution_count": 17,
     "metadata": {},
     "output_type": "execute_result"
    }
   ],
   "source": [
    "X = bag_of_words.toarray()\n",
    "X"
   ]
  },
  {
   "cell_type": "code",
   "execution_count": 18,
   "metadata": {},
   "outputs": [
    {
     "data": {
      "text/plain": [
       "array([0, 0, 0, ..., 0, 0, 'Not_like'], dtype=object)"
      ]
     },
     "execution_count": 18,
     "metadata": {},
     "output_type": "execute_result"
    }
   ],
   "source": [
    "y = np.array(target)\n",
    "y"
   ]
  },
  {
   "cell_type": "code",
   "execution_count": 19,
   "metadata": {},
   "outputs": [
    {
     "data": {
      "text/plain": [
       "array(['Like', 'Like', 'Like', 'Like', 'Like', 'Like', 'Like', 'Like',\n",
       "       'Like', 'Like', 'Like', 'Like', 'Like', 'Like', 'Like', 'Like',\n",
       "       'Like', 'Like', 'Like', 'Like', 'Like', 'Like', 'Like', 'Like',\n",
       "       'Like', 'Like', 'Like', 'Like', 'Like', 'Like', 'Like', 'Like',\n",
       "       'Like', 'Like', 'Like', 'Like', 'Like', 'Like', 'Like', 'Like',\n",
       "       'Like', 'Like', 'Like', 'Like', 'Like', 'Like', 'Like', 'Like',\n",
       "       'Like', 'Like', 'Like', 'Like', 'Like', 'Like', 'Like', 'Like',\n",
       "       'Like', 'Like', 'Like', 'Like', 'Like', 'Like', 'Like', 'Like',\n",
       "       'Like', 'Like', 'Like', 'Like', 'Like', 'Like', 'Like', 'Like',\n",
       "       'Like', 'Like', 'Like', 'Like', 'Like', 'Like', 'Like', 'Like',\n",
       "       'Like', 'Like', 'Like', 'Like', 'Like', 'Like', 'Like', 'Like',\n",
       "       'Like', 'Like', 'Like', 'Like', 'Like', 'Like', 'Neutral',\n",
       "       'Neutral', 'Neutral', 'Neutral', 'Neutral', 'Neutral', 'Neutral',\n",
       "       'Neutral', 'Neutral', 'Neutral', 'Neutral', 'Neutral', 'Neutral',\n",
       "       'Neutral', 'Neutral', 'Neutral', 'Neutral', 'Neutral', 'Neutral',\n",
       "       'Neutral', 'Neutral', 'Neutral', 'Neutral', 'Neutral', 'Neutral',\n",
       "       'Not_like', 'Not_like', 'Not_like', 'Not_like', 'Not_like',\n",
       "       'Not_like', 'Not_like', 'Not_like', 'Not_like', 'Not_like',\n",
       "       'Not_like', 'Not_like', 'Not_like', 'Not_like', 'Not_like',\n",
       "       'Not_like', 'Not_like', 'Not_like', 'Not_like', 'Not_like',\n",
       "       'Not_like', 'Not_like', 'Not_like', 'Not_like', 'Like', 'Like',\n",
       "       'Like', 'Like', 'Like', 'Like', 'Like', 'Like', 'Like', 'Like',\n",
       "       'Like', 'Like', 'Like', 'Like', 'Like', 'Like', 'Like', 'Like',\n",
       "       'Like', 'Like', 'Like', 'Like', 'Like', 'Like', 'Like', 'Like',\n",
       "       'Like', 'Like', 'Like', 'Like', 'Like', 'Like', 'Like', 'Like',\n",
       "       'Like', 'Like', 'Like', 'Like', 'Like', 'Like', 'Like', 'Like',\n",
       "       'Like', 'Like', 'Like', 'Like', 'Like', 'Like', 'Like', 'Like',\n",
       "       'Like', 'Like', 'Like', 'Like', 'Like', 'Like', 'Like'],\n",
       "      dtype=object)"
      ]
     },
     "execution_count": 19,
     "metadata": {},
     "output_type": "execute_result"
    }
   ],
   "source": [
    "data[\"class\"].head(200).values"
   ]
  },
  {
   "cell_type": "code",
   "execution_count": 20,
   "metadata": {},
   "outputs": [
    {
     "data": {
      "text/plain": [
       "array([0, 0, 0, 0, 0, 0, 0, 0, 0, 0, 0, 0, 0, 0, 0, 0, 0, 0, 0, 0, 0, 0,\n",
       "       0, 0, 0, 0, 0, 0, 0, 0, 0, 0, 0, 0, 0, 0, 0, 0, 0, 0, 0, 0, 0, 0,\n",
       "       0, 0, 0, 0, 0, 0, 0, 0, 0, 0, 0, 0, 0, 0, 0, 0, 0, 0, 0, 0, 0, 0,\n",
       "       0, 0, 0, 0, 0, 0, 0, 0, 0, 0, 0, 0, 0, 0, 0, 0, 0, 0, 0, 0, 0, 0,\n",
       "       0, 0, 0, 0, 0, 0, 2, 2, 2, 2, 2, 2, 2, 2, 2, 2, 2, 2, 2, 2, 2, 2,\n",
       "       2, 2, 2, 2, 2, 2, 2, 2, 2, 'Not_like', 'Not_like', 'Not_like',\n",
       "       'Not_like', 'Not_like', 'Not_like', 'Not_like', 'Not_like',\n",
       "       'Not_like', 'Not_like', 'Not_like', 'Not_like', 'Not_like',\n",
       "       'Not_like', 'Not_like', 'Not_like', 'Not_like', 'Not_like',\n",
       "       'Not_like', 'Not_like', 'Not_like', 'Not_like', 'Not_like',\n",
       "       'Not_like', 0, 0, 0, 0, 0, 0, 0, 0, 0, 0, 0, 0, 0, 0, 0, 0, 0, 0,\n",
       "       0, 0, 0, 0, 0, 0, 0, 0, 0, 0, 0, 0, 0, 0, 0, 0, 0, 0, 0, 0, 0, 0,\n",
       "       0, 0, 0, 0, 0, 0, 0, 0, 0, 0, 0, 0, 0, 0, 0, 0, 0], dtype=object)"
      ]
     },
     "execution_count": 20,
     "metadata": {},
     "output_type": "execute_result"
    }
   ],
   "source": [
    "y[:200]"
   ]
  },
  {
   "cell_type": "code",
   "execution_count": 21,
   "metadata": {
    "id": "-57P7xTgLgKX"
   },
   "outputs": [],
   "source": [
    "from sklearn.model_selection import train_test_split\n",
    "\n",
    "X_train, X_test, y_train, y_test = train_test_split(X,y, test_size=0.2,random_state=42)"
   ]
  },
  {
   "cell_type": "code",
   "execution_count": null,
   "metadata": {
    "scrolled": true
   },
   "outputs": [
    {
     "name": "stderr",
     "output_type": "stream",
     "text": [
      " 83%|████████▎ | 24/29 [01:04<00:13,  2.67s/it]"
     ]
    }
   ],
   "source": [
    "clf = LazyClassifier(verbose=0, ignore_warnings=True, custom_metric=None)\n",
    "models, predictions = clf.fit(X_train, X_test, y_train, y_test)"
   ]
  },
  {
   "cell_type": "code",
   "execution_count": null,
   "metadata": {},
   "outputs": [],
   "source": [
    "models"
   ]
  },
  {
   "cell_type": "markdown",
   "metadata": {
    "id": "c7CR_gWBLgKY"
   },
   "source": [
    "### MultinomialNB"
   ]
  },
  {
   "cell_type": "code",
   "execution_count": null,
   "metadata": {
    "id": "1i3uDPghLgKi",
    "outputId": "269d3ca9-d574-4244-eb12-003555993e1f"
   },
   "outputs": [],
   "source": [
    "pipeline_MNB = Pipeline([\n",
    "    ('vectorizer', CountVectorizer()),\n",
    "    ('tfidf', TfidfTransformer()),\n",
    "    ('model', MultinomialNB())\n",
    "])\n",
    "\n",
    "pipeline_MNB.fit(X_train, y_train)\n",
    "\n",
    "y_pred_MNB = pipeline_MNB.predict(X_test)\n",
    "\n",
    "accuracy = accuracy_score(y_test, y_pred_MNB)\n",
    "print(\"Accuracy:\", accuracy)\n",
    "print(\"-\"*60)\n",
    "print(confusion_matrix(y_test, y_pred_MNB))\n",
    "print(\"-\"*60)\n",
    "print(classification_report(y_test, y_pred_MNB))"
   ]
  },
  {
   "cell_type": "markdown",
   "metadata": {
    "id": "a2pqyhgBLgKj"
   },
   "source": [
    "### GradientBoosting"
   ]
  },
  {
   "cell_type": "code",
   "execution_count": null,
   "metadata": {
    "id": "uhSm4gSrLgKk",
    "outputId": "7982b5fa-bed3-4579-e024-3c5d439c7a04"
   },
   "outputs": [],
   "source": [
    "pipeline_gb = Pipeline([\n",
    "    ('vectorizer', CountVectorizer(token_pattern=r'\\b\\w+\\b', tokenizer=None)),\n",
    "    ('tfidf', TfidfTransformer()),\n",
    "    ('model', GradientBoostingClassifier())\n",
    "])\n",
    "\n",
    "pipeline_gb.fit(X_train, y_train)\n",
    "\n",
    "y_pred_gb = pipeline_gb.predict(X_test)\n",
    "\n",
    "accuracy = accuracy_score(y_test, y_pred_gb)\n",
    "print(\"Accuracy:\", accuracy)\n",
    "print(\"-\"*60)\n",
    "print(confusion_matrix(y_test, y_pred_gb))\n",
    "print(\"-\"*60)\n",
    "print(classification_report(y_test, y_pred_gb))"
   ]
  },
  {
   "cell_type": "markdown",
   "metadata": {
    "id": "QgQvGUiQLgKk"
   },
   "source": [
    "### DecisionTree"
   ]
  },
  {
   "cell_type": "code",
   "execution_count": null,
   "metadata": {
    "id": "R5YEiCvYLgKk",
    "outputId": "21d5523f-d34d-4082-bd7a-b3534f1b72db"
   },
   "outputs": [],
   "source": [
    "pipeline_dct = Pipeline([\n",
    "    ('vectorizer', CountVectorizer()),\n",
    "    ('tfidf', TfidfTransformer()),\n",
    "    ('model', DecisionTreeClassifier())\n",
    "])\n",
    "\n",
    "pipeline_dct.fit(X_train, y_train)\n",
    "\n",
    "y_pred_dct = pipeline_dct.predict(X_test)\n",
    "\n",
    "accuracy = accuracy_score(y_test, y_pred_dct)\n",
    "print(\"Accuracy:\", accuracy)\n",
    "print(\"-\"*60)\n",
    "print(confusion_matrix(y_test, y_pred_dct))\n",
    "print(\"-\"*60)\n",
    "print(classification_report(y_test, y_pred_dct))"
   ]
  },
  {
   "cell_type": "markdown",
   "metadata": {
    "id": "v0Q61PqeLgKl"
   },
   "source": [
    "### KNN"
   ]
  },
  {
   "cell_type": "code",
   "execution_count": null,
   "metadata": {
    "id": "Pvetgpc7LgKl",
    "outputId": "f9b42c2b-0aa6-4121-8ffb-6d59b51361d0"
   },
   "outputs": [],
   "source": [
    "pipeline_knn = Pipeline([\n",
    "    ('vectorizer', CountVectorizer()),\n",
    "    ('tfidf', TfidfTransformer()),\n",
    "    ('model', KNeighborsClassifier())\n",
    "])\n",
    "\n",
    "pipeline_knn.fit(X_train, y_train)\n",
    "\n",
    "y_pred_knn = pipeline_knn.predict(X_test)\n",
    "\n",
    "accuracy_knn = accuracy_score(y_test, y_pred_knn)\n",
    "print(\"Accuracy: \", accuracy_knn)\n",
    "print(\"-\"*60)\n",
    "print(confusion_matrix(y_test, y_pred_knn))\n",
    "print(\"-\"*60)\n",
    "print(classification_report(y_test, y_pred_knn))"
   ]
  },
  {
   "cell_type": "markdown",
   "metadata": {
    "id": "2Cb6xUJULgKl"
   },
   "source": [
    "### RandomForest"
   ]
  },
  {
   "cell_type": "code",
   "execution_count": null,
   "metadata": {
    "id": "190dYiiKLgKl",
    "outputId": "fe0b6b9f-602d-44cf-8d2d-9fc43c8f1c02"
   },
   "outputs": [],
   "source": [
    "pipeline_rf = Pipeline([\n",
    "    ('vectorizer', CountVectorizer()),\n",
    "    ('tfidf', TfidfTransformer()),\n",
    "    ('model', RandomForestClassifier())\n",
    "])\n",
    "\n",
    "pipeline_rf.fit(X_train, y_train)\n",
    "\n",
    "y_pred_rf = pipeline_rf.predict(X_test)\n",
    "\n",
    "accuracy_rf = accuracy_score(y_test, y_pred_rf)\n",
    "print(\"Accuracy: \", accuracy_rf)\n",
    "print(\"-\"*60)\n",
    "print(confusion_matrix(y_test, y_pred_rf))\n",
    "print(\"-\"*60)\n",
    "print(classification_report(y_test, y_pred_rf))"
   ]
  },
  {
   "cell_type": "markdown",
   "metadata": {
    "id": "Rnb7_zv3LgKl"
   },
   "source": [
    "### Multi-Layer Perceptron"
   ]
  },
  {
   "cell_type": "code",
   "execution_count": null,
   "metadata": {
    "id": "IOAVTjayLgKm",
    "outputId": "3479575e-53a1-46b0-cd41-118e78ff4e2c"
   },
   "outputs": [],
   "source": [
    "pipeline_mlp = Pipeline([\n",
    "    ('vectorizer', CountVectorizer()),\n",
    "    ('tfidf', TfidfTransformer()),\n",
    "    ('model', MLPClassifier())\n",
    "])\n",
    "\n",
    "pipeline_mlp.fit(X_train, y_train)\n",
    "\n",
    "y_pred_mlp = pipeline_mlp.predict(X_test)\n",
    "\n",
    "accuracy_mlp = accuracy_score(y_test, y_pred_mlp)\n",
    "print(\"Accuracy: \", accuracy_mlp)\n",
    "print(\"-\"*60)\n",
    "print(confusion_matrix(y_test, y_pred_mlp))\n",
    "print(\"-\"*60)\n",
    "print(classification_report(y_test, y_pred_mlp))"
   ]
  },
  {
   "cell_type": "markdown",
   "metadata": {
    "id": "yStejAeCLgKm"
   },
   "source": [
    "### Nhận xét:\n",
    "- Sau khi chạy model cho ra accuracy khá ổn từ 80-91%, nhưng khi xem xét lại recall và f1-score, nhận thấy rằng các model chưa thực sự hiệu quả và cần cải thiện\n",
    "\n",
    "- Có thể Resample Data để cân bằng lại dữ liệu và xem tính hiệu"
   ]
  },
  {
   "cell_type": "code",
   "execution_count": null,
   "metadata": {
    "id": "hBVqaHWQLgKm"
   },
   "outputs": [],
   "source": []
  }
 ],
 "metadata": {
  "colab": {
   "provenance": []
  },
  "kernelspec": {
   "display_name": "Python 3 (ipykernel)",
   "language": "python",
   "name": "python3"
  },
  "language_info": {
   "codemirror_mode": {
    "name": "ipython",
    "version": 3
   },
   "file_extension": ".py",
   "mimetype": "text/x-python",
   "name": "python",
   "nbconvert_exporter": "python",
   "pygments_lexer": "ipython3",
   "version": "3.7.16"
  }
 },
 "nbformat": 4,
 "nbformat_minor": 1
}
